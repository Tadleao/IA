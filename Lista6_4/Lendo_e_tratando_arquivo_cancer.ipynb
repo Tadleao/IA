{
  "cells": [
    {
      "cell_type": "markdown",
      "metadata": {
        "id": "WYfovYvpPtHN"
      },
      "source": [
        "**Atualizando a biblioteca para plotagem de gráficos**\n"
      ]
    },
    {
      "cell_type": "code",
      "execution_count": 90,
      "metadata": {
        "id": "hTIKXbn7PfB3"
      },
      "outputs": [],
      "source": [
        "# !pip -q install plotly --upgrade\n",
        "# !pip install -U scikit-learn\n",
        "# !pip install pandas\n",
        "# !pip install seaborn"
      ]
    },
    {
      "cell_type": "markdown",
      "metadata": {
        "id": "vWFW_ECYPktU"
      },
      "source": [
        "**Importando bibliotecas**"
      ]
    },
    {
      "cell_type": "code",
      "execution_count": 91,
      "metadata": {
        "id": "kkOvJnL-P1QQ"
      },
      "outputs": [],
      "source": [
        "import pandas as pd\n",
        "import numpy as np\n",
        "import seaborn as sns\n",
        "from sklearn.preprocessing import OrdinalEncoder, LabelEncoder, OneHotEncoder\n",
        "import matplotlib.pyplot as plt\n",
        "import plotly.express as px"
      ]
    },
    {
      "cell_type": "markdown",
      "metadata": {
        "id": "A5YB5ubEQfaE"
      },
      "source": [
        "**Abrindo um arquivo CSV do drive**"
      ]
    },
    {
      "cell_type": "code",
      "execution_count": 92,
      "metadata": {
        "colab": {
          "base_uri": "https://localhost:8080/"
        },
        "id": "3rzDkhcBQddF",
        "outputId": "c2c49d6d-886b-481f-c414-e54480de3355"
      },
      "outputs": [],
      "source": [
        "base = pd.read_csv('breast-cancer.csv', sep=',')"
      ]
    },
    {
      "cell_type": "markdown",
      "metadata": {
        "id": "y-g8wDMln18q"
      },
      "source": [
        "**Você também pode carregar seu arquivo e já selecionar as colunas que desejar... investigue esta função**"
      ]
    },
    {
      "cell_type": "code",
      "execution_count": 93,
      "metadata": {
        "id": "i8-ualmHV-VU"
      },
      "outputs": [],
      "source": [
        "#base2 = pd.read_csv('/content/sample_data/restaurante.csv', ';', usecols=['Alternativo', 'Bar'])\n",
        "#base2"
      ]
    },
    {
      "cell_type": "code",
      "execution_count": 94,
      "metadata": {
        "colab": {
          "base_uri": "https://localhost:8080/",
          "height": 426
        },
        "id": "SFVtNXxPUAnR",
        "outputId": "e753a7b0-b42d-4dfd-bb83-6863ff1e6d58"
      },
      "outputs": [
        {
          "data": {
            "text/html": [
              "<div>\n",
              "<style scoped>\n",
              "    .dataframe tbody tr th:only-of-type {\n",
              "        vertical-align: middle;\n",
              "    }\n",
              "\n",
              "    .dataframe tbody tr th {\n",
              "        vertical-align: top;\n",
              "    }\n",
              "\n",
              "    .dataframe thead th {\n",
              "        text-align: right;\n",
              "    }\n",
              "</style>\n",
              "<table border=\"1\" class=\"dataframe\">\n",
              "  <thead>\n",
              "    <tr style=\"text-align: right;\">\n",
              "      <th></th>\n",
              "      <th>age</th>\n",
              "      <th>menopause</th>\n",
              "      <th>tumor-size</th>\n",
              "      <th>inv-nodes</th>\n",
              "      <th>node-caps</th>\n",
              "      <th>deg-malig</th>\n",
              "      <th>breast</th>\n",
              "      <th>breast-quad</th>\n",
              "      <th>irradiat</th>\n",
              "      <th>Class</th>\n",
              "    </tr>\n",
              "  </thead>\n",
              "  <tbody>\n",
              "    <tr>\n",
              "      <th>0</th>\n",
              "      <td>40-49</td>\n",
              "      <td>premeno</td>\n",
              "      <td>3.0</td>\n",
              "      <td>0-2</td>\n",
              "      <td>yes</td>\n",
              "      <td>3</td>\n",
              "      <td>right</td>\n",
              "      <td>left_up</td>\n",
              "      <td>no</td>\n",
              "      <td>recurrence-events</td>\n",
              "    </tr>\n",
              "    <tr>\n",
              "      <th>1</th>\n",
              "      <td>50-59</td>\n",
              "      <td>ge40</td>\n",
              "      <td>3.0</td>\n",
              "      <td>0-2</td>\n",
              "      <td>no</td>\n",
              "      <td>1</td>\n",
              "      <td>right</td>\n",
              "      <td>central</td>\n",
              "      <td>no</td>\n",
              "      <td>no-recurrence-events</td>\n",
              "    </tr>\n",
              "    <tr>\n",
              "      <th>2</th>\n",
              "      <td>50-59</td>\n",
              "      <td>ge40</td>\n",
              "      <td>7.0</td>\n",
              "      <td>0-2</td>\n",
              "      <td>no</td>\n",
              "      <td>2</td>\n",
              "      <td>left</td>\n",
              "      <td>left_low</td>\n",
              "      <td>no</td>\n",
              "      <td>recurrence-events</td>\n",
              "    </tr>\n",
              "    <tr>\n",
              "      <th>3</th>\n",
              "      <td>40-49</td>\n",
              "      <td>premeno</td>\n",
              "      <td>7.0</td>\n",
              "      <td>0-2</td>\n",
              "      <td>yes</td>\n",
              "      <td>3</td>\n",
              "      <td>right</td>\n",
              "      <td>left_low</td>\n",
              "      <td>yes</td>\n",
              "      <td>no-recurrence-events</td>\n",
              "    </tr>\n",
              "    <tr>\n",
              "      <th>4</th>\n",
              "      <td>40-49</td>\n",
              "      <td>premeno</td>\n",
              "      <td>6.0</td>\n",
              "      <td>3-5</td>\n",
              "      <td>yes</td>\n",
              "      <td>2</td>\n",
              "      <td>left</td>\n",
              "      <td>right_up</td>\n",
              "      <td>no</td>\n",
              "      <td>recurrence-events</td>\n",
              "    </tr>\n",
              "    <tr>\n",
              "      <th>...</th>\n",
              "      <td>...</td>\n",
              "      <td>...</td>\n",
              "      <td>...</td>\n",
              "      <td>...</td>\n",
              "      <td>...</td>\n",
              "      <td>...</td>\n",
              "      <td>...</td>\n",
              "      <td>...</td>\n",
              "      <td>...</td>\n",
              "      <td>...</td>\n",
              "    </tr>\n",
              "    <tr>\n",
              "      <th>281</th>\n",
              "      <td>50-59</td>\n",
              "      <td>ge40</td>\n",
              "      <td>6.0</td>\n",
              "      <td>6-8</td>\n",
              "      <td>yes</td>\n",
              "      <td>2</td>\n",
              "      <td>left</td>\n",
              "      <td>left_low</td>\n",
              "      <td>no</td>\n",
              "      <td>no-recurrence-events</td>\n",
              "    </tr>\n",
              "    <tr>\n",
              "      <th>282</th>\n",
              "      <td>50-59</td>\n",
              "      <td>premeno</td>\n",
              "      <td>5.0</td>\n",
              "      <td>3-5</td>\n",
              "      <td>yes</td>\n",
              "      <td>2</td>\n",
              "      <td>left</td>\n",
              "      <td>left_low</td>\n",
              "      <td>yes</td>\n",
              "      <td>no-recurrence-events</td>\n",
              "    </tr>\n",
              "    <tr>\n",
              "      <th>283</th>\n",
              "      <td>30-39</td>\n",
              "      <td>premeno</td>\n",
              "      <td>6.0</td>\n",
              "      <td>6-8</td>\n",
              "      <td>yes</td>\n",
              "      <td>2</td>\n",
              "      <td>right</td>\n",
              "      <td>right_up</td>\n",
              "      <td>no</td>\n",
              "      <td>no-recurrence-events</td>\n",
              "    </tr>\n",
              "    <tr>\n",
              "      <th>284</th>\n",
              "      <td>50-59</td>\n",
              "      <td>premeno</td>\n",
              "      <td>3.0</td>\n",
              "      <td>0-2</td>\n",
              "      <td>no</td>\n",
              "      <td>2</td>\n",
              "      <td>right</td>\n",
              "      <td>left_low</td>\n",
              "      <td>no</td>\n",
              "      <td>no-recurrence-events</td>\n",
              "    </tr>\n",
              "    <tr>\n",
              "      <th>285</th>\n",
              "      <td>50-59</td>\n",
              "      <td>ge40</td>\n",
              "      <td>8.0</td>\n",
              "      <td>0-2</td>\n",
              "      <td>no</td>\n",
              "      <td>3</td>\n",
              "      <td>left</td>\n",
              "      <td>right_up</td>\n",
              "      <td>no</td>\n",
              "      <td>no-recurrence-events</td>\n",
              "    </tr>\n",
              "  </tbody>\n",
              "</table>\n",
              "<p>286 rows × 10 columns</p>\n",
              "</div>"
            ],
            "text/plain": [
              "       age menopause  tumor-size inv-nodes node-caps  deg-malig breast  \\\n",
              "0    40-49   premeno         3.0       0-2       yes          3  right   \n",
              "1    50-59      ge40         3.0       0-2        no          1  right   \n",
              "2    50-59      ge40         7.0       0-2        no          2   left   \n",
              "3    40-49   premeno         7.0       0-2       yes          3  right   \n",
              "4    40-49   premeno         6.0       3-5       yes          2   left   \n",
              "..     ...       ...         ...       ...       ...        ...    ...   \n",
              "281  50-59      ge40         6.0       6-8       yes          2   left   \n",
              "282  50-59   premeno         5.0       3-5       yes          2   left   \n",
              "283  30-39   premeno         6.0       6-8       yes          2  right   \n",
              "284  50-59   premeno         3.0       0-2        no          2  right   \n",
              "285  50-59      ge40         8.0       0-2        no          3   left   \n",
              "\n",
              "    breast-quad irradiat                 Class  \n",
              "0       left_up       no     recurrence-events  \n",
              "1       central       no  no-recurrence-events  \n",
              "2      left_low       no     recurrence-events  \n",
              "3      left_low      yes  no-recurrence-events  \n",
              "4      right_up       no     recurrence-events  \n",
              "..          ...      ...                   ...  \n",
              "281    left_low       no  no-recurrence-events  \n",
              "282    left_low      yes  no-recurrence-events  \n",
              "283    right_up       no  no-recurrence-events  \n",
              "284    left_low       no  no-recurrence-events  \n",
              "285    right_up       no  no-recurrence-events  \n",
              "\n",
              "[286 rows x 10 columns]"
            ]
          },
          "execution_count": 94,
          "metadata": {},
          "output_type": "execute_result"
        }
      ],
      "source": [
        "oe = OrdinalEncoder(categories=[['0-4','5-9','10-14','15-19', '20-24', '25-29', '30-34', '35-39', '40-44','45-49','50-54']])\n",
        "base['tumor-size'] = oe.fit_transform(base[['tumor-size']])\n",
        "base\n"
      ]
    },
    {
      "cell_type": "code",
      "execution_count": 95,
      "metadata": {
        "colab": {
          "base_uri": "https://localhost:8080/",
          "height": 143
        },
        "id": "WtFD-X3YVI4B",
        "outputId": "9dd2b8de-dd23-4997-a3bd-06afe458d138"
      },
      "outputs": [
        {
          "data": {
            "text/html": [
              "<div>\n",
              "<style scoped>\n",
              "    .dataframe tbody tr th:only-of-type {\n",
              "        vertical-align: middle;\n",
              "    }\n",
              "\n",
              "    .dataframe tbody tr th {\n",
              "        vertical-align: top;\n",
              "    }\n",
              "\n",
              "    .dataframe thead th {\n",
              "        text-align: right;\n",
              "    }\n",
              "</style>\n",
              "<table border=\"1\" class=\"dataframe\">\n",
              "  <thead>\n",
              "    <tr style=\"text-align: right;\">\n",
              "      <th></th>\n",
              "      <th>age</th>\n",
              "      <th>menopause</th>\n",
              "      <th>tumor-size</th>\n",
              "      <th>inv-nodes</th>\n",
              "      <th>node-caps</th>\n",
              "      <th>deg-malig</th>\n",
              "      <th>breast</th>\n",
              "      <th>breast-quad</th>\n",
              "      <th>irradiat</th>\n",
              "      <th>Class</th>\n",
              "    </tr>\n",
              "  </thead>\n",
              "  <tbody>\n",
              "    <tr>\n",
              "      <th>0</th>\n",
              "      <td>40-49</td>\n",
              "      <td>2</td>\n",
              "      <td>3.0</td>\n",
              "      <td>0-2</td>\n",
              "      <td>2</td>\n",
              "      <td>3</td>\n",
              "      <td>1</td>\n",
              "      <td>left_up</td>\n",
              "      <td>0</td>\n",
              "      <td>1</td>\n",
              "    </tr>\n",
              "    <tr>\n",
              "      <th>1</th>\n",
              "      <td>50-59</td>\n",
              "      <td>0</td>\n",
              "      <td>3.0</td>\n",
              "      <td>0-2</td>\n",
              "      <td>1</td>\n",
              "      <td>1</td>\n",
              "      <td>1</td>\n",
              "      <td>central</td>\n",
              "      <td>0</td>\n",
              "      <td>0</td>\n",
              "    </tr>\n",
              "    <tr>\n",
              "      <th>2</th>\n",
              "      <td>50-59</td>\n",
              "      <td>0</td>\n",
              "      <td>7.0</td>\n",
              "      <td>0-2</td>\n",
              "      <td>1</td>\n",
              "      <td>2</td>\n",
              "      <td>0</td>\n",
              "      <td>left_low</td>\n",
              "      <td>0</td>\n",
              "      <td>1</td>\n",
              "    </tr>\n",
              "    <tr>\n",
              "      <th>3</th>\n",
              "      <td>40-49</td>\n",
              "      <td>2</td>\n",
              "      <td>7.0</td>\n",
              "      <td>0-2</td>\n",
              "      <td>2</td>\n",
              "      <td>3</td>\n",
              "      <td>1</td>\n",
              "      <td>left_low</td>\n",
              "      <td>1</td>\n",
              "      <td>0</td>\n",
              "    </tr>\n",
              "    <tr>\n",
              "      <th>4</th>\n",
              "      <td>40-49</td>\n",
              "      <td>2</td>\n",
              "      <td>6.0</td>\n",
              "      <td>3-5</td>\n",
              "      <td>2</td>\n",
              "      <td>2</td>\n",
              "      <td>0</td>\n",
              "      <td>right_up</td>\n",
              "      <td>0</td>\n",
              "      <td>1</td>\n",
              "    </tr>\n",
              "    <tr>\n",
              "      <th>...</th>\n",
              "      <td>...</td>\n",
              "      <td>...</td>\n",
              "      <td>...</td>\n",
              "      <td>...</td>\n",
              "      <td>...</td>\n",
              "      <td>...</td>\n",
              "      <td>...</td>\n",
              "      <td>...</td>\n",
              "      <td>...</td>\n",
              "      <td>...</td>\n",
              "    </tr>\n",
              "    <tr>\n",
              "      <th>281</th>\n",
              "      <td>50-59</td>\n",
              "      <td>0</td>\n",
              "      <td>6.0</td>\n",
              "      <td>6-8</td>\n",
              "      <td>2</td>\n",
              "      <td>2</td>\n",
              "      <td>0</td>\n",
              "      <td>left_low</td>\n",
              "      <td>0</td>\n",
              "      <td>0</td>\n",
              "    </tr>\n",
              "    <tr>\n",
              "      <th>282</th>\n",
              "      <td>50-59</td>\n",
              "      <td>2</td>\n",
              "      <td>5.0</td>\n",
              "      <td>3-5</td>\n",
              "      <td>2</td>\n",
              "      <td>2</td>\n",
              "      <td>0</td>\n",
              "      <td>left_low</td>\n",
              "      <td>1</td>\n",
              "      <td>0</td>\n",
              "    </tr>\n",
              "    <tr>\n",
              "      <th>283</th>\n",
              "      <td>30-39</td>\n",
              "      <td>2</td>\n",
              "      <td>6.0</td>\n",
              "      <td>6-8</td>\n",
              "      <td>2</td>\n",
              "      <td>2</td>\n",
              "      <td>1</td>\n",
              "      <td>right_up</td>\n",
              "      <td>0</td>\n",
              "      <td>0</td>\n",
              "    </tr>\n",
              "    <tr>\n",
              "      <th>284</th>\n",
              "      <td>50-59</td>\n",
              "      <td>2</td>\n",
              "      <td>3.0</td>\n",
              "      <td>0-2</td>\n",
              "      <td>1</td>\n",
              "      <td>2</td>\n",
              "      <td>1</td>\n",
              "      <td>left_low</td>\n",
              "      <td>0</td>\n",
              "      <td>0</td>\n",
              "    </tr>\n",
              "    <tr>\n",
              "      <th>285</th>\n",
              "      <td>50-59</td>\n",
              "      <td>0</td>\n",
              "      <td>8.0</td>\n",
              "      <td>0-2</td>\n",
              "      <td>1</td>\n",
              "      <td>3</td>\n",
              "      <td>0</td>\n",
              "      <td>right_up</td>\n",
              "      <td>0</td>\n",
              "      <td>0</td>\n",
              "    </tr>\n",
              "  </tbody>\n",
              "</table>\n",
              "<p>286 rows × 10 columns</p>\n",
              "</div>"
            ],
            "text/plain": [
              "       age  menopause  tumor-size inv-nodes  node-caps  deg-malig  breast  \\\n",
              "0    40-49          2         3.0       0-2          2          3       1   \n",
              "1    50-59          0         3.0       0-2          1          1       1   \n",
              "2    50-59          0         7.0       0-2          1          2       0   \n",
              "3    40-49          2         7.0       0-2          2          3       1   \n",
              "4    40-49          2         6.0       3-5          2          2       0   \n",
              "..     ...        ...         ...       ...        ...        ...     ...   \n",
              "281  50-59          0         6.0       6-8          2          2       0   \n",
              "282  50-59          2         5.0       3-5          2          2       0   \n",
              "283  30-39          2         6.0       6-8          2          2       1   \n",
              "284  50-59          2         3.0       0-2          1          2       1   \n",
              "285  50-59          0         8.0       0-2          1          3       0   \n",
              "\n",
              "    breast-quad  irradiat  Class  \n",
              "0       left_up         0      1  \n",
              "1       central         0      0  \n",
              "2      left_low         0      1  \n",
              "3      left_low         1      0  \n",
              "4      right_up         0      1  \n",
              "..          ...       ...    ...  \n",
              "281    left_low         0      0  \n",
              "282    left_low         1      0  \n",
              "283    right_up         0      0  \n",
              "284    left_low         0      0  \n",
              "285    right_up         0      0  \n",
              "\n",
              "[286 rows x 10 columns]"
            ]
          },
          "execution_count": 95,
          "metadata": {},
          "output_type": "execute_result"
        }
      ],
      "source": [
        "le = LabelEncoder()\n",
        "base['node-caps'] = le.fit_transform(base['node-caps'])\n",
        "base['breast'] = le.fit_transform(base['breast'])\n",
        "base['menopause'] = le.fit_transform(base['menopause'])\n",
        "base['irradiat'] = le.fit_transform(base['irradiat'])\n",
        "base['Class'] = le.fit_transform(base['Class'])\n",
        "base"
      ]
    },
    {
      "cell_type": "code",
      "execution_count": 96,
      "metadata": {
        "colab": {
          "base_uri": "https://localhost:8080/",
          "height": 112
        },
        "id": "0VKCjaDIVTMc",
        "outputId": "0a0c483a-7a56-4ec2-db7c-43d25f6451d5"
      },
      "outputs": [
        {
          "data": {
            "text/html": [
              "<div>\n",
              "<style scoped>\n",
              "    .dataframe tbody tr th:only-of-type {\n",
              "        vertical-align: middle;\n",
              "    }\n",
              "\n",
              "    .dataframe tbody tr th {\n",
              "        vertical-align: top;\n",
              "    }\n",
              "\n",
              "    .dataframe thead th {\n",
              "        text-align: right;\n",
              "    }\n",
              "</style>\n",
              "<table border=\"1\" class=\"dataframe\">\n",
              "  <thead>\n",
              "    <tr style=\"text-align: right;\">\n",
              "      <th></th>\n",
              "      <th>breast-quad_?</th>\n",
              "      <th>breast-quad_central</th>\n",
              "      <th>breast-quad_left_low</th>\n",
              "      <th>breast-quad_left_up</th>\n",
              "      <th>breast-quad_right_low</th>\n",
              "      <th>breast-quad_right_up</th>\n",
              "    </tr>\n",
              "  </thead>\n",
              "  <tbody>\n",
              "    <tr>\n",
              "      <th>0</th>\n",
              "      <td>0.0</td>\n",
              "      <td>0.0</td>\n",
              "      <td>0.0</td>\n",
              "      <td>1.0</td>\n",
              "      <td>0.0</td>\n",
              "      <td>0.0</td>\n",
              "    </tr>\n",
              "    <tr>\n",
              "      <th>1</th>\n",
              "      <td>0.0</td>\n",
              "      <td>1.0</td>\n",
              "      <td>0.0</td>\n",
              "      <td>0.0</td>\n",
              "      <td>0.0</td>\n",
              "      <td>0.0</td>\n",
              "    </tr>\n",
              "    <tr>\n",
              "      <th>2</th>\n",
              "      <td>0.0</td>\n",
              "      <td>0.0</td>\n",
              "      <td>1.0</td>\n",
              "      <td>0.0</td>\n",
              "      <td>0.0</td>\n",
              "      <td>0.0</td>\n",
              "    </tr>\n",
              "    <tr>\n",
              "      <th>3</th>\n",
              "      <td>0.0</td>\n",
              "      <td>0.0</td>\n",
              "      <td>1.0</td>\n",
              "      <td>0.0</td>\n",
              "      <td>0.0</td>\n",
              "      <td>0.0</td>\n",
              "    </tr>\n",
              "    <tr>\n",
              "      <th>4</th>\n",
              "      <td>0.0</td>\n",
              "      <td>0.0</td>\n",
              "      <td>0.0</td>\n",
              "      <td>0.0</td>\n",
              "      <td>0.0</td>\n",
              "      <td>1.0</td>\n",
              "    </tr>\n",
              "    <tr>\n",
              "      <th>...</th>\n",
              "      <td>...</td>\n",
              "      <td>...</td>\n",
              "      <td>...</td>\n",
              "      <td>...</td>\n",
              "      <td>...</td>\n",
              "      <td>...</td>\n",
              "    </tr>\n",
              "    <tr>\n",
              "      <th>281</th>\n",
              "      <td>0.0</td>\n",
              "      <td>0.0</td>\n",
              "      <td>1.0</td>\n",
              "      <td>0.0</td>\n",
              "      <td>0.0</td>\n",
              "      <td>0.0</td>\n",
              "    </tr>\n",
              "    <tr>\n",
              "      <th>282</th>\n",
              "      <td>0.0</td>\n",
              "      <td>0.0</td>\n",
              "      <td>1.0</td>\n",
              "      <td>0.0</td>\n",
              "      <td>0.0</td>\n",
              "      <td>0.0</td>\n",
              "    </tr>\n",
              "    <tr>\n",
              "      <th>283</th>\n",
              "      <td>0.0</td>\n",
              "      <td>0.0</td>\n",
              "      <td>0.0</td>\n",
              "      <td>0.0</td>\n",
              "      <td>0.0</td>\n",
              "      <td>1.0</td>\n",
              "    </tr>\n",
              "    <tr>\n",
              "      <th>284</th>\n",
              "      <td>0.0</td>\n",
              "      <td>0.0</td>\n",
              "      <td>1.0</td>\n",
              "      <td>0.0</td>\n",
              "      <td>0.0</td>\n",
              "      <td>0.0</td>\n",
              "    </tr>\n",
              "    <tr>\n",
              "      <th>285</th>\n",
              "      <td>0.0</td>\n",
              "      <td>0.0</td>\n",
              "      <td>0.0</td>\n",
              "      <td>0.0</td>\n",
              "      <td>0.0</td>\n",
              "      <td>1.0</td>\n",
              "    </tr>\n",
              "  </tbody>\n",
              "</table>\n",
              "<p>286 rows × 6 columns</p>\n",
              "</div>"
            ],
            "text/plain": [
              "     breast-quad_?  breast-quad_central  breast-quad_left_low  \\\n",
              "0              0.0                  0.0                   0.0   \n",
              "1              0.0                  1.0                   0.0   \n",
              "2              0.0                  0.0                   1.0   \n",
              "3              0.0                  0.0                   1.0   \n",
              "4              0.0                  0.0                   0.0   \n",
              "..             ...                  ...                   ...   \n",
              "281            0.0                  0.0                   1.0   \n",
              "282            0.0                  0.0                   1.0   \n",
              "283            0.0                  0.0                   0.0   \n",
              "284            0.0                  0.0                   1.0   \n",
              "285            0.0                  0.0                   0.0   \n",
              "\n",
              "     breast-quad_left_up  breast-quad_right_low  breast-quad_right_up  \n",
              "0                    1.0                    0.0                   0.0  \n",
              "1                    0.0                    0.0                   0.0  \n",
              "2                    0.0                    0.0                   0.0  \n",
              "3                    0.0                    0.0                   0.0  \n",
              "4                    0.0                    0.0                   1.0  \n",
              "..                   ...                    ...                   ...  \n",
              "281                  0.0                    0.0                   0.0  \n",
              "282                  0.0                    0.0                   0.0  \n",
              "283                  0.0                    0.0                   1.0  \n",
              "284                  0.0                    0.0                   0.0  \n",
              "285                  0.0                    0.0                   1.0  \n",
              "\n",
              "[286 rows x 6 columns]"
            ]
          },
          "execution_count": 96,
          "metadata": {},
          "output_type": "execute_result"
        }
      ],
      "source": [
        "one = OneHotEncoder(sparse_output=False)\n",
        "encoded = pd.DataFrame(one.fit_transform(base[['breast-quad']]),columns=one.get_feature_names_out(['breast-quad']))\n",
        "encoded"
      ]
    },
    {
      "cell_type": "markdown",
      "metadata": {
        "id": "nnxpN2abg5eN"
      },
      "source": [
        "**Contando quantidade de instâncias**\n"
      ]
    },
    {
      "cell_type": "code",
      "execution_count": 97,
      "metadata": {
        "colab": {
          "base_uri": "https://localhost:8080/"
        },
        "id": "xgR2Os49WO3d",
        "outputId": "0259ff4f-b9cb-4380-c2bd-00f3912f6577"
      },
      "outputs": [
        {
          "data": {
            "text/html": [
              "<div>\n",
              "<style scoped>\n",
              "    .dataframe tbody tr th:only-of-type {\n",
              "        vertical-align: middle;\n",
              "    }\n",
              "\n",
              "    .dataframe tbody tr th {\n",
              "        vertical-align: top;\n",
              "    }\n",
              "\n",
              "    .dataframe thead th {\n",
              "        text-align: right;\n",
              "    }\n",
              "</style>\n",
              "<table border=\"1\" class=\"dataframe\">\n",
              "  <thead>\n",
              "    <tr style=\"text-align: right;\">\n",
              "      <th></th>\n",
              "      <th>age</th>\n",
              "      <th>menopause</th>\n",
              "      <th>tumor-size</th>\n",
              "      <th>inv-nodes</th>\n",
              "      <th>node-caps</th>\n",
              "      <th>deg-malig</th>\n",
              "      <th>breast</th>\n",
              "      <th>irradiat</th>\n",
              "      <th>Class</th>\n",
              "      <th>breast-quad_?</th>\n",
              "      <th>breast-quad_central</th>\n",
              "      <th>breast-quad_left_low</th>\n",
              "      <th>breast-quad_left_up</th>\n",
              "      <th>breast-quad_right_low</th>\n",
              "      <th>breast-quad_right_up</th>\n",
              "    </tr>\n",
              "  </thead>\n",
              "  <tbody>\n",
              "    <tr>\n",
              "      <th>0</th>\n",
              "      <td>40-49</td>\n",
              "      <td>2</td>\n",
              "      <td>3.0</td>\n",
              "      <td>0-2</td>\n",
              "      <td>2</td>\n",
              "      <td>3</td>\n",
              "      <td>1</td>\n",
              "      <td>0</td>\n",
              "      <td>1</td>\n",
              "      <td>0.0</td>\n",
              "      <td>0.0</td>\n",
              "      <td>0.0</td>\n",
              "      <td>1.0</td>\n",
              "      <td>0.0</td>\n",
              "      <td>0.0</td>\n",
              "    </tr>\n",
              "    <tr>\n",
              "      <th>1</th>\n",
              "      <td>50-59</td>\n",
              "      <td>0</td>\n",
              "      <td>3.0</td>\n",
              "      <td>0-2</td>\n",
              "      <td>1</td>\n",
              "      <td>1</td>\n",
              "      <td>1</td>\n",
              "      <td>0</td>\n",
              "      <td>0</td>\n",
              "      <td>0.0</td>\n",
              "      <td>1.0</td>\n",
              "      <td>0.0</td>\n",
              "      <td>0.0</td>\n",
              "      <td>0.0</td>\n",
              "      <td>0.0</td>\n",
              "    </tr>\n",
              "    <tr>\n",
              "      <th>2</th>\n",
              "      <td>50-59</td>\n",
              "      <td>0</td>\n",
              "      <td>7.0</td>\n",
              "      <td>0-2</td>\n",
              "      <td>1</td>\n",
              "      <td>2</td>\n",
              "      <td>0</td>\n",
              "      <td>0</td>\n",
              "      <td>1</td>\n",
              "      <td>0.0</td>\n",
              "      <td>0.0</td>\n",
              "      <td>1.0</td>\n",
              "      <td>0.0</td>\n",
              "      <td>0.0</td>\n",
              "      <td>0.0</td>\n",
              "    </tr>\n",
              "    <tr>\n",
              "      <th>3</th>\n",
              "      <td>40-49</td>\n",
              "      <td>2</td>\n",
              "      <td>7.0</td>\n",
              "      <td>0-2</td>\n",
              "      <td>2</td>\n",
              "      <td>3</td>\n",
              "      <td>1</td>\n",
              "      <td>1</td>\n",
              "      <td>0</td>\n",
              "      <td>0.0</td>\n",
              "      <td>0.0</td>\n",
              "      <td>1.0</td>\n",
              "      <td>0.0</td>\n",
              "      <td>0.0</td>\n",
              "      <td>0.0</td>\n",
              "    </tr>\n",
              "    <tr>\n",
              "      <th>4</th>\n",
              "      <td>40-49</td>\n",
              "      <td>2</td>\n",
              "      <td>6.0</td>\n",
              "      <td>3-5</td>\n",
              "      <td>2</td>\n",
              "      <td>2</td>\n",
              "      <td>0</td>\n",
              "      <td>0</td>\n",
              "      <td>1</td>\n",
              "      <td>0.0</td>\n",
              "      <td>0.0</td>\n",
              "      <td>0.0</td>\n",
              "      <td>0.0</td>\n",
              "      <td>0.0</td>\n",
              "      <td>1.0</td>\n",
              "    </tr>\n",
              "    <tr>\n",
              "      <th>...</th>\n",
              "      <td>...</td>\n",
              "      <td>...</td>\n",
              "      <td>...</td>\n",
              "      <td>...</td>\n",
              "      <td>...</td>\n",
              "      <td>...</td>\n",
              "      <td>...</td>\n",
              "      <td>...</td>\n",
              "      <td>...</td>\n",
              "      <td>...</td>\n",
              "      <td>...</td>\n",
              "      <td>...</td>\n",
              "      <td>...</td>\n",
              "      <td>...</td>\n",
              "      <td>...</td>\n",
              "    </tr>\n",
              "    <tr>\n",
              "      <th>281</th>\n",
              "      <td>50-59</td>\n",
              "      <td>0</td>\n",
              "      <td>6.0</td>\n",
              "      <td>6-8</td>\n",
              "      <td>2</td>\n",
              "      <td>2</td>\n",
              "      <td>0</td>\n",
              "      <td>0</td>\n",
              "      <td>0</td>\n",
              "      <td>0.0</td>\n",
              "      <td>0.0</td>\n",
              "      <td>1.0</td>\n",
              "      <td>0.0</td>\n",
              "      <td>0.0</td>\n",
              "      <td>0.0</td>\n",
              "    </tr>\n",
              "    <tr>\n",
              "      <th>282</th>\n",
              "      <td>50-59</td>\n",
              "      <td>2</td>\n",
              "      <td>5.0</td>\n",
              "      <td>3-5</td>\n",
              "      <td>2</td>\n",
              "      <td>2</td>\n",
              "      <td>0</td>\n",
              "      <td>1</td>\n",
              "      <td>0</td>\n",
              "      <td>0.0</td>\n",
              "      <td>0.0</td>\n",
              "      <td>1.0</td>\n",
              "      <td>0.0</td>\n",
              "      <td>0.0</td>\n",
              "      <td>0.0</td>\n",
              "    </tr>\n",
              "    <tr>\n",
              "      <th>283</th>\n",
              "      <td>30-39</td>\n",
              "      <td>2</td>\n",
              "      <td>6.0</td>\n",
              "      <td>6-8</td>\n",
              "      <td>2</td>\n",
              "      <td>2</td>\n",
              "      <td>1</td>\n",
              "      <td>0</td>\n",
              "      <td>0</td>\n",
              "      <td>0.0</td>\n",
              "      <td>0.0</td>\n",
              "      <td>0.0</td>\n",
              "      <td>0.0</td>\n",
              "      <td>0.0</td>\n",
              "      <td>1.0</td>\n",
              "    </tr>\n",
              "    <tr>\n",
              "      <th>284</th>\n",
              "      <td>50-59</td>\n",
              "      <td>2</td>\n",
              "      <td>3.0</td>\n",
              "      <td>0-2</td>\n",
              "      <td>1</td>\n",
              "      <td>2</td>\n",
              "      <td>1</td>\n",
              "      <td>0</td>\n",
              "      <td>0</td>\n",
              "      <td>0.0</td>\n",
              "      <td>0.0</td>\n",
              "      <td>1.0</td>\n",
              "      <td>0.0</td>\n",
              "      <td>0.0</td>\n",
              "      <td>0.0</td>\n",
              "    </tr>\n",
              "    <tr>\n",
              "      <th>285</th>\n",
              "      <td>50-59</td>\n",
              "      <td>0</td>\n",
              "      <td>8.0</td>\n",
              "      <td>0-2</td>\n",
              "      <td>1</td>\n",
              "      <td>3</td>\n",
              "      <td>0</td>\n",
              "      <td>0</td>\n",
              "      <td>0</td>\n",
              "      <td>0.0</td>\n",
              "      <td>0.0</td>\n",
              "      <td>0.0</td>\n",
              "      <td>0.0</td>\n",
              "      <td>0.0</td>\n",
              "      <td>1.0</td>\n",
              "    </tr>\n",
              "  </tbody>\n",
              "</table>\n",
              "<p>286 rows × 15 columns</p>\n",
              "</div>"
            ],
            "text/plain": [
              "       age  menopause  tumor-size inv-nodes  node-caps  deg-malig  breast  \\\n",
              "0    40-49          2         3.0       0-2          2          3       1   \n",
              "1    50-59          0         3.0       0-2          1          1       1   \n",
              "2    50-59          0         7.0       0-2          1          2       0   \n",
              "3    40-49          2         7.0       0-2          2          3       1   \n",
              "4    40-49          2         6.0       3-5          2          2       0   \n",
              "..     ...        ...         ...       ...        ...        ...     ...   \n",
              "281  50-59          0         6.0       6-8          2          2       0   \n",
              "282  50-59          2         5.0       3-5          2          2       0   \n",
              "283  30-39          2         6.0       6-8          2          2       1   \n",
              "284  50-59          2         3.0       0-2          1          2       1   \n",
              "285  50-59          0         8.0       0-2          1          3       0   \n",
              "\n",
              "     irradiat  Class  breast-quad_?  breast-quad_central  \\\n",
              "0           0      1            0.0                  0.0   \n",
              "1           0      0            0.0                  1.0   \n",
              "2           0      1            0.0                  0.0   \n",
              "3           1      0            0.0                  0.0   \n",
              "4           0      1            0.0                  0.0   \n",
              "..        ...    ...            ...                  ...   \n",
              "281         0      0            0.0                  0.0   \n",
              "282         1      0            0.0                  0.0   \n",
              "283         0      0            0.0                  0.0   \n",
              "284         0      0            0.0                  0.0   \n",
              "285         0      0            0.0                  0.0   \n",
              "\n",
              "     breast-quad_left_low  breast-quad_left_up  breast-quad_right_low  \\\n",
              "0                     0.0                  1.0                    0.0   \n",
              "1                     0.0                  0.0                    0.0   \n",
              "2                     1.0                  0.0                    0.0   \n",
              "3                     1.0                  0.0                    0.0   \n",
              "4                     0.0                  0.0                    0.0   \n",
              "..                    ...                  ...                    ...   \n",
              "281                   1.0                  0.0                    0.0   \n",
              "282                   1.0                  0.0                    0.0   \n",
              "283                   0.0                  0.0                    0.0   \n",
              "284                   1.0                  0.0                    0.0   \n",
              "285                   0.0                  0.0                    0.0   \n",
              "\n",
              "     breast-quad_right_up  \n",
              "0                     0.0  \n",
              "1                     0.0  \n",
              "2                     0.0  \n",
              "3                     0.0  \n",
              "4                     1.0  \n",
              "..                    ...  \n",
              "281                   0.0  \n",
              "282                   0.0  \n",
              "283                   1.0  \n",
              "284                   0.0  \n",
              "285                   1.0  \n",
              "\n",
              "[286 rows x 15 columns]"
            ]
          },
          "execution_count": 97,
          "metadata": {},
          "output_type": "execute_result"
        }
      ],
      "source": [
        "base = base.drop('breast-quad', axis=1)\n",
        "base = pd.concat([base,encoded],axis=1)\n",
        "base"
      ]
    },
    {
      "cell_type": "code",
      "execution_count": 98,
      "metadata": {
        "colab": {
          "base_uri": "https://localhost:8080/",
          "height": 279
        },
        "id": "n-DOy3oXXG4N",
        "outputId": "b546a15c-5769-4691-e4e6-f9303cc76a76"
      },
      "outputs": [
        {
          "data": {
            "text/html": [
              "<div>\n",
              "<style scoped>\n",
              "    .dataframe tbody tr th:only-of-type {\n",
              "        vertical-align: middle;\n",
              "    }\n",
              "\n",
              "    .dataframe tbody tr th {\n",
              "        vertical-align: top;\n",
              "    }\n",
              "\n",
              "    .dataframe thead th {\n",
              "        text-align: right;\n",
              "    }\n",
              "</style>\n",
              "<table border=\"1\" class=\"dataframe\">\n",
              "  <thead>\n",
              "    <tr style=\"text-align: right;\">\n",
              "      <th></th>\n",
              "      <th>age</th>\n",
              "      <th>menopause</th>\n",
              "      <th>tumor-size</th>\n",
              "      <th>inv-nodes</th>\n",
              "      <th>node-caps</th>\n",
              "      <th>deg-malig</th>\n",
              "      <th>breast</th>\n",
              "      <th>irradiat</th>\n",
              "      <th>Class</th>\n",
              "      <th>breast-quad_?</th>\n",
              "      <th>breast-quad_central</th>\n",
              "      <th>breast-quad_left_low</th>\n",
              "      <th>breast-quad_left_up</th>\n",
              "      <th>breast-quad_right_low</th>\n",
              "      <th>breast-quad_right_up</th>\n",
              "    </tr>\n",
              "  </thead>\n",
              "  <tbody>\n",
              "    <tr>\n",
              "      <th>0</th>\n",
              "      <td>2.0</td>\n",
              "      <td>2</td>\n",
              "      <td>3.0</td>\n",
              "      <td>0-2</td>\n",
              "      <td>2</td>\n",
              "      <td>3</td>\n",
              "      <td>1</td>\n",
              "      <td>0</td>\n",
              "      <td>1</td>\n",
              "      <td>0.0</td>\n",
              "      <td>0.0</td>\n",
              "      <td>0.0</td>\n",
              "      <td>1.0</td>\n",
              "      <td>0.0</td>\n",
              "      <td>0.0</td>\n",
              "    </tr>\n",
              "    <tr>\n",
              "      <th>1</th>\n",
              "      <td>3.0</td>\n",
              "      <td>0</td>\n",
              "      <td>3.0</td>\n",
              "      <td>0-2</td>\n",
              "      <td>1</td>\n",
              "      <td>1</td>\n",
              "      <td>1</td>\n",
              "      <td>0</td>\n",
              "      <td>0</td>\n",
              "      <td>0.0</td>\n",
              "      <td>1.0</td>\n",
              "      <td>0.0</td>\n",
              "      <td>0.0</td>\n",
              "      <td>0.0</td>\n",
              "      <td>0.0</td>\n",
              "    </tr>\n",
              "    <tr>\n",
              "      <th>2</th>\n",
              "      <td>3.0</td>\n",
              "      <td>0</td>\n",
              "      <td>7.0</td>\n",
              "      <td>0-2</td>\n",
              "      <td>1</td>\n",
              "      <td>2</td>\n",
              "      <td>0</td>\n",
              "      <td>0</td>\n",
              "      <td>1</td>\n",
              "      <td>0.0</td>\n",
              "      <td>0.0</td>\n",
              "      <td>1.0</td>\n",
              "      <td>0.0</td>\n",
              "      <td>0.0</td>\n",
              "      <td>0.0</td>\n",
              "    </tr>\n",
              "    <tr>\n",
              "      <th>3</th>\n",
              "      <td>2.0</td>\n",
              "      <td>2</td>\n",
              "      <td>7.0</td>\n",
              "      <td>0-2</td>\n",
              "      <td>2</td>\n",
              "      <td>3</td>\n",
              "      <td>1</td>\n",
              "      <td>1</td>\n",
              "      <td>0</td>\n",
              "      <td>0.0</td>\n",
              "      <td>0.0</td>\n",
              "      <td>1.0</td>\n",
              "      <td>0.0</td>\n",
              "      <td>0.0</td>\n",
              "      <td>0.0</td>\n",
              "    </tr>\n",
              "    <tr>\n",
              "      <th>4</th>\n",
              "      <td>2.0</td>\n",
              "      <td>2</td>\n",
              "      <td>6.0</td>\n",
              "      <td>3-5</td>\n",
              "      <td>2</td>\n",
              "      <td>2</td>\n",
              "      <td>0</td>\n",
              "      <td>0</td>\n",
              "      <td>1</td>\n",
              "      <td>0.0</td>\n",
              "      <td>0.0</td>\n",
              "      <td>0.0</td>\n",
              "      <td>0.0</td>\n",
              "      <td>0.0</td>\n",
              "      <td>1.0</td>\n",
              "    </tr>\n",
              "    <tr>\n",
              "      <th>...</th>\n",
              "      <td>...</td>\n",
              "      <td>...</td>\n",
              "      <td>...</td>\n",
              "      <td>...</td>\n",
              "      <td>...</td>\n",
              "      <td>...</td>\n",
              "      <td>...</td>\n",
              "      <td>...</td>\n",
              "      <td>...</td>\n",
              "      <td>...</td>\n",
              "      <td>...</td>\n",
              "      <td>...</td>\n",
              "      <td>...</td>\n",
              "      <td>...</td>\n",
              "      <td>...</td>\n",
              "    </tr>\n",
              "    <tr>\n",
              "      <th>281</th>\n",
              "      <td>3.0</td>\n",
              "      <td>0</td>\n",
              "      <td>6.0</td>\n",
              "      <td>6-8</td>\n",
              "      <td>2</td>\n",
              "      <td>2</td>\n",
              "      <td>0</td>\n",
              "      <td>0</td>\n",
              "      <td>0</td>\n",
              "      <td>0.0</td>\n",
              "      <td>0.0</td>\n",
              "      <td>1.0</td>\n",
              "      <td>0.0</td>\n",
              "      <td>0.0</td>\n",
              "      <td>0.0</td>\n",
              "    </tr>\n",
              "    <tr>\n",
              "      <th>282</th>\n",
              "      <td>3.0</td>\n",
              "      <td>2</td>\n",
              "      <td>5.0</td>\n",
              "      <td>3-5</td>\n",
              "      <td>2</td>\n",
              "      <td>2</td>\n",
              "      <td>0</td>\n",
              "      <td>1</td>\n",
              "      <td>0</td>\n",
              "      <td>0.0</td>\n",
              "      <td>0.0</td>\n",
              "      <td>1.0</td>\n",
              "      <td>0.0</td>\n",
              "      <td>0.0</td>\n",
              "      <td>0.0</td>\n",
              "    </tr>\n",
              "    <tr>\n",
              "      <th>283</th>\n",
              "      <td>1.0</td>\n",
              "      <td>2</td>\n",
              "      <td>6.0</td>\n",
              "      <td>6-8</td>\n",
              "      <td>2</td>\n",
              "      <td>2</td>\n",
              "      <td>1</td>\n",
              "      <td>0</td>\n",
              "      <td>0</td>\n",
              "      <td>0.0</td>\n",
              "      <td>0.0</td>\n",
              "      <td>0.0</td>\n",
              "      <td>0.0</td>\n",
              "      <td>0.0</td>\n",
              "      <td>1.0</td>\n",
              "    </tr>\n",
              "    <tr>\n",
              "      <th>284</th>\n",
              "      <td>3.0</td>\n",
              "      <td>2</td>\n",
              "      <td>3.0</td>\n",
              "      <td>0-2</td>\n",
              "      <td>1</td>\n",
              "      <td>2</td>\n",
              "      <td>1</td>\n",
              "      <td>0</td>\n",
              "      <td>0</td>\n",
              "      <td>0.0</td>\n",
              "      <td>0.0</td>\n",
              "      <td>1.0</td>\n",
              "      <td>0.0</td>\n",
              "      <td>0.0</td>\n",
              "      <td>0.0</td>\n",
              "    </tr>\n",
              "    <tr>\n",
              "      <th>285</th>\n",
              "      <td>3.0</td>\n",
              "      <td>0</td>\n",
              "      <td>8.0</td>\n",
              "      <td>0-2</td>\n",
              "      <td>1</td>\n",
              "      <td>3</td>\n",
              "      <td>0</td>\n",
              "      <td>0</td>\n",
              "      <td>0</td>\n",
              "      <td>0.0</td>\n",
              "      <td>0.0</td>\n",
              "      <td>0.0</td>\n",
              "      <td>0.0</td>\n",
              "      <td>0.0</td>\n",
              "      <td>1.0</td>\n",
              "    </tr>\n",
              "  </tbody>\n",
              "</table>\n",
              "<p>286 rows × 15 columns</p>\n",
              "</div>"
            ],
            "text/plain": [
              "     age  menopause  tumor-size inv-nodes  node-caps  deg-malig  breast  \\\n",
              "0    2.0          2         3.0       0-2          2          3       1   \n",
              "1    3.0          0         3.0       0-2          1          1       1   \n",
              "2    3.0          0         7.0       0-2          1          2       0   \n",
              "3    2.0          2         7.0       0-2          2          3       1   \n",
              "4    2.0          2         6.0       3-5          2          2       0   \n",
              "..   ...        ...         ...       ...        ...        ...     ...   \n",
              "281  3.0          0         6.0       6-8          2          2       0   \n",
              "282  3.0          2         5.0       3-5          2          2       0   \n",
              "283  1.0          2         6.0       6-8          2          2       1   \n",
              "284  3.0          2         3.0       0-2          1          2       1   \n",
              "285  3.0          0         8.0       0-2          1          3       0   \n",
              "\n",
              "     irradiat  Class  breast-quad_?  breast-quad_central  \\\n",
              "0           0      1            0.0                  0.0   \n",
              "1           0      0            0.0                  1.0   \n",
              "2           0      1            0.0                  0.0   \n",
              "3           1      0            0.0                  0.0   \n",
              "4           0      1            0.0                  0.0   \n",
              "..        ...    ...            ...                  ...   \n",
              "281         0      0            0.0                  0.0   \n",
              "282         1      0            0.0                  0.0   \n",
              "283         0      0            0.0                  0.0   \n",
              "284         0      0            0.0                  0.0   \n",
              "285         0      0            0.0                  0.0   \n",
              "\n",
              "     breast-quad_left_low  breast-quad_left_up  breast-quad_right_low  \\\n",
              "0                     0.0                  1.0                    0.0   \n",
              "1                     0.0                  0.0                    0.0   \n",
              "2                     1.0                  0.0                    0.0   \n",
              "3                     1.0                  0.0                    0.0   \n",
              "4                     0.0                  0.0                    0.0   \n",
              "..                    ...                  ...                    ...   \n",
              "281                   1.0                  0.0                    0.0   \n",
              "282                   1.0                  0.0                    0.0   \n",
              "283                   0.0                  0.0                    0.0   \n",
              "284                   1.0                  0.0                    0.0   \n",
              "285                   0.0                  0.0                    0.0   \n",
              "\n",
              "     breast-quad_right_up  \n",
              "0                     0.0  \n",
              "1                     0.0  \n",
              "2                     0.0  \n",
              "3                     0.0  \n",
              "4                     1.0  \n",
              "..                    ...  \n",
              "281                   0.0  \n",
              "282                   0.0  \n",
              "283                   1.0  \n",
              "284                   0.0  \n",
              "285                   1.0  \n",
              "\n",
              "[286 rows x 15 columns]"
            ]
          },
          "execution_count": 98,
          "metadata": {},
          "output_type": "execute_result"
        }
      ],
      "source": [
        "oe = OrdinalEncoder(categories=[['20-29','30-39','40-49','50-59', '60-69', '70-79']])\n",
        "base['age'] = oe.fit_transform(base[['age']])\n",
        "base"
      ]
    },
    {
      "cell_type": "code",
      "execution_count": 99,
      "metadata": {},
      "outputs": [
        {
          "data": {
            "text/html": [
              "<div>\n",
              "<style scoped>\n",
              "    .dataframe tbody tr th:only-of-type {\n",
              "        vertical-align: middle;\n",
              "    }\n",
              "\n",
              "    .dataframe tbody tr th {\n",
              "        vertical-align: top;\n",
              "    }\n",
              "\n",
              "    .dataframe thead th {\n",
              "        text-align: right;\n",
              "    }\n",
              "</style>\n",
              "<table border=\"1\" class=\"dataframe\">\n",
              "  <thead>\n",
              "    <tr style=\"text-align: right;\">\n",
              "      <th></th>\n",
              "      <th>age</th>\n",
              "      <th>menopause</th>\n",
              "      <th>tumor-size</th>\n",
              "      <th>inv-nodes</th>\n",
              "      <th>node-caps</th>\n",
              "      <th>deg-malig</th>\n",
              "      <th>breast</th>\n",
              "      <th>irradiat</th>\n",
              "      <th>Class</th>\n",
              "      <th>breast-quad_?</th>\n",
              "      <th>breast-quad_central</th>\n",
              "      <th>breast-quad_left_low</th>\n",
              "      <th>breast-quad_left_up</th>\n",
              "      <th>breast-quad_right_low</th>\n",
              "      <th>breast-quad_right_up</th>\n",
              "    </tr>\n",
              "  </thead>\n",
              "  <tbody>\n",
              "    <tr>\n",
              "      <th>0</th>\n",
              "      <td>2.0</td>\n",
              "      <td>2</td>\n",
              "      <td>3.0</td>\n",
              "      <td>0.0</td>\n",
              "      <td>2</td>\n",
              "      <td>3</td>\n",
              "      <td>1</td>\n",
              "      <td>0</td>\n",
              "      <td>1</td>\n",
              "      <td>0.0</td>\n",
              "      <td>0.0</td>\n",
              "      <td>0.0</td>\n",
              "      <td>1.0</td>\n",
              "      <td>0.0</td>\n",
              "      <td>0.0</td>\n",
              "    </tr>\n",
              "    <tr>\n",
              "      <th>1</th>\n",
              "      <td>3.0</td>\n",
              "      <td>0</td>\n",
              "      <td>3.0</td>\n",
              "      <td>0.0</td>\n",
              "      <td>1</td>\n",
              "      <td>1</td>\n",
              "      <td>1</td>\n",
              "      <td>0</td>\n",
              "      <td>0</td>\n",
              "      <td>0.0</td>\n",
              "      <td>1.0</td>\n",
              "      <td>0.0</td>\n",
              "      <td>0.0</td>\n",
              "      <td>0.0</td>\n",
              "      <td>0.0</td>\n",
              "    </tr>\n",
              "    <tr>\n",
              "      <th>2</th>\n",
              "      <td>3.0</td>\n",
              "      <td>0</td>\n",
              "      <td>7.0</td>\n",
              "      <td>0.0</td>\n",
              "      <td>1</td>\n",
              "      <td>2</td>\n",
              "      <td>0</td>\n",
              "      <td>0</td>\n",
              "      <td>1</td>\n",
              "      <td>0.0</td>\n",
              "      <td>0.0</td>\n",
              "      <td>1.0</td>\n",
              "      <td>0.0</td>\n",
              "      <td>0.0</td>\n",
              "      <td>0.0</td>\n",
              "    </tr>\n",
              "    <tr>\n",
              "      <th>3</th>\n",
              "      <td>2.0</td>\n",
              "      <td>2</td>\n",
              "      <td>7.0</td>\n",
              "      <td>0.0</td>\n",
              "      <td>2</td>\n",
              "      <td>3</td>\n",
              "      <td>1</td>\n",
              "      <td>1</td>\n",
              "      <td>0</td>\n",
              "      <td>0.0</td>\n",
              "      <td>0.0</td>\n",
              "      <td>1.0</td>\n",
              "      <td>0.0</td>\n",
              "      <td>0.0</td>\n",
              "      <td>0.0</td>\n",
              "    </tr>\n",
              "    <tr>\n",
              "      <th>4</th>\n",
              "      <td>2.0</td>\n",
              "      <td>2</td>\n",
              "      <td>6.0</td>\n",
              "      <td>1.0</td>\n",
              "      <td>2</td>\n",
              "      <td>2</td>\n",
              "      <td>0</td>\n",
              "      <td>0</td>\n",
              "      <td>1</td>\n",
              "      <td>0.0</td>\n",
              "      <td>0.0</td>\n",
              "      <td>0.0</td>\n",
              "      <td>0.0</td>\n",
              "      <td>0.0</td>\n",
              "      <td>1.0</td>\n",
              "    </tr>\n",
              "    <tr>\n",
              "      <th>...</th>\n",
              "      <td>...</td>\n",
              "      <td>...</td>\n",
              "      <td>...</td>\n",
              "      <td>...</td>\n",
              "      <td>...</td>\n",
              "      <td>...</td>\n",
              "      <td>...</td>\n",
              "      <td>...</td>\n",
              "      <td>...</td>\n",
              "      <td>...</td>\n",
              "      <td>...</td>\n",
              "      <td>...</td>\n",
              "      <td>...</td>\n",
              "      <td>...</td>\n",
              "      <td>...</td>\n",
              "    </tr>\n",
              "    <tr>\n",
              "      <th>281</th>\n",
              "      <td>3.0</td>\n",
              "      <td>0</td>\n",
              "      <td>6.0</td>\n",
              "      <td>2.0</td>\n",
              "      <td>2</td>\n",
              "      <td>2</td>\n",
              "      <td>0</td>\n",
              "      <td>0</td>\n",
              "      <td>0</td>\n",
              "      <td>0.0</td>\n",
              "      <td>0.0</td>\n",
              "      <td>1.0</td>\n",
              "      <td>0.0</td>\n",
              "      <td>0.0</td>\n",
              "      <td>0.0</td>\n",
              "    </tr>\n",
              "    <tr>\n",
              "      <th>282</th>\n",
              "      <td>3.0</td>\n",
              "      <td>2</td>\n",
              "      <td>5.0</td>\n",
              "      <td>1.0</td>\n",
              "      <td>2</td>\n",
              "      <td>2</td>\n",
              "      <td>0</td>\n",
              "      <td>1</td>\n",
              "      <td>0</td>\n",
              "      <td>0.0</td>\n",
              "      <td>0.0</td>\n",
              "      <td>1.0</td>\n",
              "      <td>0.0</td>\n",
              "      <td>0.0</td>\n",
              "      <td>0.0</td>\n",
              "    </tr>\n",
              "    <tr>\n",
              "      <th>283</th>\n",
              "      <td>1.0</td>\n",
              "      <td>2</td>\n",
              "      <td>6.0</td>\n",
              "      <td>2.0</td>\n",
              "      <td>2</td>\n",
              "      <td>2</td>\n",
              "      <td>1</td>\n",
              "      <td>0</td>\n",
              "      <td>0</td>\n",
              "      <td>0.0</td>\n",
              "      <td>0.0</td>\n",
              "      <td>0.0</td>\n",
              "      <td>0.0</td>\n",
              "      <td>0.0</td>\n",
              "      <td>1.0</td>\n",
              "    </tr>\n",
              "    <tr>\n",
              "      <th>284</th>\n",
              "      <td>3.0</td>\n",
              "      <td>2</td>\n",
              "      <td>3.0</td>\n",
              "      <td>0.0</td>\n",
              "      <td>1</td>\n",
              "      <td>2</td>\n",
              "      <td>1</td>\n",
              "      <td>0</td>\n",
              "      <td>0</td>\n",
              "      <td>0.0</td>\n",
              "      <td>0.0</td>\n",
              "      <td>1.0</td>\n",
              "      <td>0.0</td>\n",
              "      <td>0.0</td>\n",
              "      <td>0.0</td>\n",
              "    </tr>\n",
              "    <tr>\n",
              "      <th>285</th>\n",
              "      <td>3.0</td>\n",
              "      <td>0</td>\n",
              "      <td>8.0</td>\n",
              "      <td>0.0</td>\n",
              "      <td>1</td>\n",
              "      <td>3</td>\n",
              "      <td>0</td>\n",
              "      <td>0</td>\n",
              "      <td>0</td>\n",
              "      <td>0.0</td>\n",
              "      <td>0.0</td>\n",
              "      <td>0.0</td>\n",
              "      <td>0.0</td>\n",
              "      <td>0.0</td>\n",
              "      <td>1.0</td>\n",
              "    </tr>\n",
              "  </tbody>\n",
              "</table>\n",
              "<p>272 rows × 15 columns</p>\n",
              "</div>"
            ],
            "text/plain": [
              "     age  menopause  tumor-size  inv-nodes  node-caps  deg-malig  breast  \\\n",
              "0    2.0          2         3.0        0.0          2          3       1   \n",
              "1    3.0          0         3.0        0.0          1          1       1   \n",
              "2    3.0          0         7.0        0.0          1          2       0   \n",
              "3    2.0          2         7.0        0.0          2          3       1   \n",
              "4    2.0          2         6.0        1.0          2          2       0   \n",
              "..   ...        ...         ...        ...        ...        ...     ...   \n",
              "281  3.0          0         6.0        2.0          2          2       0   \n",
              "282  3.0          2         5.0        1.0          2          2       0   \n",
              "283  1.0          2         6.0        2.0          2          2       1   \n",
              "284  3.0          2         3.0        0.0          1          2       1   \n",
              "285  3.0          0         8.0        0.0          1          3       0   \n",
              "\n",
              "     irradiat  Class  breast-quad_?  breast-quad_central  \\\n",
              "0           0      1            0.0                  0.0   \n",
              "1           0      0            0.0                  1.0   \n",
              "2           0      1            0.0                  0.0   \n",
              "3           1      0            0.0                  0.0   \n",
              "4           0      1            0.0                  0.0   \n",
              "..        ...    ...            ...                  ...   \n",
              "281         0      0            0.0                  0.0   \n",
              "282         1      0            0.0                  0.0   \n",
              "283         0      0            0.0                  0.0   \n",
              "284         0      0            0.0                  0.0   \n",
              "285         0      0            0.0                  0.0   \n",
              "\n",
              "     breast-quad_left_low  breast-quad_left_up  breast-quad_right_low  \\\n",
              "0                     0.0                  1.0                    0.0   \n",
              "1                     0.0                  0.0                    0.0   \n",
              "2                     1.0                  0.0                    0.0   \n",
              "3                     1.0                  0.0                    0.0   \n",
              "4                     0.0                  0.0                    0.0   \n",
              "..                    ...                  ...                    ...   \n",
              "281                   1.0                  0.0                    0.0   \n",
              "282                   1.0                  0.0                    0.0   \n",
              "283                   0.0                  0.0                    0.0   \n",
              "284                   1.0                  0.0                    0.0   \n",
              "285                   0.0                  0.0                    0.0   \n",
              "\n",
              "     breast-quad_right_up  \n",
              "0                     0.0  \n",
              "1                     0.0  \n",
              "2                     0.0  \n",
              "3                     0.0  \n",
              "4                     1.0  \n",
              "..                    ...  \n",
              "281                   0.0  \n",
              "282                   0.0  \n",
              "283                   1.0  \n",
              "284                   0.0  \n",
              "285                   1.0  \n",
              "\n",
              "[272 rows x 15 columns]"
            ]
          },
          "execution_count": 99,
          "metadata": {},
          "output_type": "execute_result"
        }
      ],
      "source": [
        "oe = OrdinalEncoder(categories=[['0-2','3-5','6-8','9-11', '12-14', '15-17','24-26']])\n",
        "base['inv-nodes'] = oe.fit_transform(base[['inv-nodes']])\n",
        "base = base.drop_duplicates()\n",
        "base2 = base.drop('Class', axis=1)\n",
        "base"
      ]
    },
    {
      "cell_type": "markdown",
      "metadata": {
        "id": "MYJpg6Q8hH8i"
      },
      "source": [
        "**Separando os atributos de entrada e de classe**"
      ]
    },
    {
      "cell_type": "code",
      "execution_count": 100,
      "metadata": {
        "id": "9EPdNWJIXPm2"
      },
      "outputs": [],
      "source": [
        "X_prev = base2.iloc[:, :].values"
      ]
    },
    {
      "cell_type": "code",
      "execution_count": 101,
      "metadata": {
        "colab": {
          "base_uri": "https://localhost:8080/"
        },
        "id": "zYITR2Kv6X1F",
        "outputId": "6ba96642-d2e2-4ac0-ade0-a919477934d6"
      },
      "outputs": [
        {
          "data": {
            "text/plain": [
              "array([[2., 2., 3., ..., 1., 0., 0.],\n",
              "       [3., 0., 3., ..., 0., 0., 0.],\n",
              "       [3., 0., 7., ..., 0., 0., 0.],\n",
              "       ...,\n",
              "       [1., 2., 6., ..., 0., 0., 1.],\n",
              "       [3., 2., 3., ..., 0., 0., 0.],\n",
              "       [3., 0., 8., ..., 0., 0., 1.]])"
            ]
          },
          "execution_count": 101,
          "metadata": {},
          "output_type": "execute_result"
        }
      ],
      "source": [
        "X_prev"
      ]
    },
    {
      "cell_type": "code",
      "execution_count": 102,
      "metadata": {
        "id": "35DXGBG46LQ1"
      },
      "outputs": [],
      "source": [
        "X_prev_label = base2.iloc[:, :]"
      ]
    },
    {
      "cell_type": "code",
      "execution_count": 103,
      "metadata": {
        "colab": {
          "base_uri": "https://localhost:8080/",
          "height": 426
        },
        "id": "IOfUln-yf13F",
        "outputId": "333e08e4-2fde-4511-8e5c-e32338e6a261"
      },
      "outputs": [
        {
          "data": {
            "text/html": [
              "<div>\n",
              "<style scoped>\n",
              "    .dataframe tbody tr th:only-of-type {\n",
              "        vertical-align: middle;\n",
              "    }\n",
              "\n",
              "    .dataframe tbody tr th {\n",
              "        vertical-align: top;\n",
              "    }\n",
              "\n",
              "    .dataframe thead th {\n",
              "        text-align: right;\n",
              "    }\n",
              "</style>\n",
              "<table border=\"1\" class=\"dataframe\">\n",
              "  <thead>\n",
              "    <tr style=\"text-align: right;\">\n",
              "      <th></th>\n",
              "      <th>age</th>\n",
              "      <th>menopause</th>\n",
              "      <th>tumor-size</th>\n",
              "      <th>inv-nodes</th>\n",
              "      <th>node-caps</th>\n",
              "      <th>deg-malig</th>\n",
              "      <th>breast</th>\n",
              "      <th>irradiat</th>\n",
              "      <th>breast-quad_?</th>\n",
              "      <th>breast-quad_central</th>\n",
              "      <th>breast-quad_left_low</th>\n",
              "      <th>breast-quad_left_up</th>\n",
              "      <th>breast-quad_right_low</th>\n",
              "      <th>breast-quad_right_up</th>\n",
              "    </tr>\n",
              "  </thead>\n",
              "  <tbody>\n",
              "    <tr>\n",
              "      <th>0</th>\n",
              "      <td>2.0</td>\n",
              "      <td>2</td>\n",
              "      <td>3.0</td>\n",
              "      <td>0.0</td>\n",
              "      <td>2</td>\n",
              "      <td>3</td>\n",
              "      <td>1</td>\n",
              "      <td>0</td>\n",
              "      <td>0.0</td>\n",
              "      <td>0.0</td>\n",
              "      <td>0.0</td>\n",
              "      <td>1.0</td>\n",
              "      <td>0.0</td>\n",
              "      <td>0.0</td>\n",
              "    </tr>\n",
              "    <tr>\n",
              "      <th>1</th>\n",
              "      <td>3.0</td>\n",
              "      <td>0</td>\n",
              "      <td>3.0</td>\n",
              "      <td>0.0</td>\n",
              "      <td>1</td>\n",
              "      <td>1</td>\n",
              "      <td>1</td>\n",
              "      <td>0</td>\n",
              "      <td>0.0</td>\n",
              "      <td>1.0</td>\n",
              "      <td>0.0</td>\n",
              "      <td>0.0</td>\n",
              "      <td>0.0</td>\n",
              "      <td>0.0</td>\n",
              "    </tr>\n",
              "    <tr>\n",
              "      <th>2</th>\n",
              "      <td>3.0</td>\n",
              "      <td>0</td>\n",
              "      <td>7.0</td>\n",
              "      <td>0.0</td>\n",
              "      <td>1</td>\n",
              "      <td>2</td>\n",
              "      <td>0</td>\n",
              "      <td>0</td>\n",
              "      <td>0.0</td>\n",
              "      <td>0.0</td>\n",
              "      <td>1.0</td>\n",
              "      <td>0.0</td>\n",
              "      <td>0.0</td>\n",
              "      <td>0.0</td>\n",
              "    </tr>\n",
              "    <tr>\n",
              "      <th>3</th>\n",
              "      <td>2.0</td>\n",
              "      <td>2</td>\n",
              "      <td>7.0</td>\n",
              "      <td>0.0</td>\n",
              "      <td>2</td>\n",
              "      <td>3</td>\n",
              "      <td>1</td>\n",
              "      <td>1</td>\n",
              "      <td>0.0</td>\n",
              "      <td>0.0</td>\n",
              "      <td>1.0</td>\n",
              "      <td>0.0</td>\n",
              "      <td>0.0</td>\n",
              "      <td>0.0</td>\n",
              "    </tr>\n",
              "    <tr>\n",
              "      <th>4</th>\n",
              "      <td>2.0</td>\n",
              "      <td>2</td>\n",
              "      <td>6.0</td>\n",
              "      <td>1.0</td>\n",
              "      <td>2</td>\n",
              "      <td>2</td>\n",
              "      <td>0</td>\n",
              "      <td>0</td>\n",
              "      <td>0.0</td>\n",
              "      <td>0.0</td>\n",
              "      <td>0.0</td>\n",
              "      <td>0.0</td>\n",
              "      <td>0.0</td>\n",
              "      <td>1.0</td>\n",
              "    </tr>\n",
              "    <tr>\n",
              "      <th>...</th>\n",
              "      <td>...</td>\n",
              "      <td>...</td>\n",
              "      <td>...</td>\n",
              "      <td>...</td>\n",
              "      <td>...</td>\n",
              "      <td>...</td>\n",
              "      <td>...</td>\n",
              "      <td>...</td>\n",
              "      <td>...</td>\n",
              "      <td>...</td>\n",
              "      <td>...</td>\n",
              "      <td>...</td>\n",
              "      <td>...</td>\n",
              "      <td>...</td>\n",
              "    </tr>\n",
              "    <tr>\n",
              "      <th>281</th>\n",
              "      <td>3.0</td>\n",
              "      <td>0</td>\n",
              "      <td>6.0</td>\n",
              "      <td>2.0</td>\n",
              "      <td>2</td>\n",
              "      <td>2</td>\n",
              "      <td>0</td>\n",
              "      <td>0</td>\n",
              "      <td>0.0</td>\n",
              "      <td>0.0</td>\n",
              "      <td>1.0</td>\n",
              "      <td>0.0</td>\n",
              "      <td>0.0</td>\n",
              "      <td>0.0</td>\n",
              "    </tr>\n",
              "    <tr>\n",
              "      <th>282</th>\n",
              "      <td>3.0</td>\n",
              "      <td>2</td>\n",
              "      <td>5.0</td>\n",
              "      <td>1.0</td>\n",
              "      <td>2</td>\n",
              "      <td>2</td>\n",
              "      <td>0</td>\n",
              "      <td>1</td>\n",
              "      <td>0.0</td>\n",
              "      <td>0.0</td>\n",
              "      <td>1.0</td>\n",
              "      <td>0.0</td>\n",
              "      <td>0.0</td>\n",
              "      <td>0.0</td>\n",
              "    </tr>\n",
              "    <tr>\n",
              "      <th>283</th>\n",
              "      <td>1.0</td>\n",
              "      <td>2</td>\n",
              "      <td>6.0</td>\n",
              "      <td>2.0</td>\n",
              "      <td>2</td>\n",
              "      <td>2</td>\n",
              "      <td>1</td>\n",
              "      <td>0</td>\n",
              "      <td>0.0</td>\n",
              "      <td>0.0</td>\n",
              "      <td>0.0</td>\n",
              "      <td>0.0</td>\n",
              "      <td>0.0</td>\n",
              "      <td>1.0</td>\n",
              "    </tr>\n",
              "    <tr>\n",
              "      <th>284</th>\n",
              "      <td>3.0</td>\n",
              "      <td>2</td>\n",
              "      <td>3.0</td>\n",
              "      <td>0.0</td>\n",
              "      <td>1</td>\n",
              "      <td>2</td>\n",
              "      <td>1</td>\n",
              "      <td>0</td>\n",
              "      <td>0.0</td>\n",
              "      <td>0.0</td>\n",
              "      <td>1.0</td>\n",
              "      <td>0.0</td>\n",
              "      <td>0.0</td>\n",
              "      <td>0.0</td>\n",
              "    </tr>\n",
              "    <tr>\n",
              "      <th>285</th>\n",
              "      <td>3.0</td>\n",
              "      <td>0</td>\n",
              "      <td>8.0</td>\n",
              "      <td>0.0</td>\n",
              "      <td>1</td>\n",
              "      <td>3</td>\n",
              "      <td>0</td>\n",
              "      <td>0</td>\n",
              "      <td>0.0</td>\n",
              "      <td>0.0</td>\n",
              "      <td>0.0</td>\n",
              "      <td>0.0</td>\n",
              "      <td>0.0</td>\n",
              "      <td>1.0</td>\n",
              "    </tr>\n",
              "  </tbody>\n",
              "</table>\n",
              "<p>272 rows × 14 columns</p>\n",
              "</div>"
            ],
            "text/plain": [
              "     age  menopause  tumor-size  inv-nodes  node-caps  deg-malig  breast  \\\n",
              "0    2.0          2         3.0        0.0          2          3       1   \n",
              "1    3.0          0         3.0        0.0          1          1       1   \n",
              "2    3.0          0         7.0        0.0          1          2       0   \n",
              "3    2.0          2         7.0        0.0          2          3       1   \n",
              "4    2.0          2         6.0        1.0          2          2       0   \n",
              "..   ...        ...         ...        ...        ...        ...     ...   \n",
              "281  3.0          0         6.0        2.0          2          2       0   \n",
              "282  3.0          2         5.0        1.0          2          2       0   \n",
              "283  1.0          2         6.0        2.0          2          2       1   \n",
              "284  3.0          2         3.0        0.0          1          2       1   \n",
              "285  3.0          0         8.0        0.0          1          3       0   \n",
              "\n",
              "     irradiat  breast-quad_?  breast-quad_central  breast-quad_left_low  \\\n",
              "0           0            0.0                  0.0                   0.0   \n",
              "1           0            0.0                  1.0                   0.0   \n",
              "2           0            0.0                  0.0                   1.0   \n",
              "3           1            0.0                  0.0                   1.0   \n",
              "4           0            0.0                  0.0                   0.0   \n",
              "..        ...            ...                  ...                   ...   \n",
              "281         0            0.0                  0.0                   1.0   \n",
              "282         1            0.0                  0.0                   1.0   \n",
              "283         0            0.0                  0.0                   0.0   \n",
              "284         0            0.0                  0.0                   1.0   \n",
              "285         0            0.0                  0.0                   0.0   \n",
              "\n",
              "     breast-quad_left_up  breast-quad_right_low  breast-quad_right_up  \n",
              "0                    1.0                    0.0                   0.0  \n",
              "1                    0.0                    0.0                   0.0  \n",
              "2                    0.0                    0.0                   0.0  \n",
              "3                    0.0                    0.0                   0.0  \n",
              "4                    0.0                    0.0                   1.0  \n",
              "..                   ...                    ...                   ...  \n",
              "281                  0.0                    0.0                   0.0  \n",
              "282                  0.0                    0.0                   0.0  \n",
              "283                  0.0                    0.0                   1.0  \n",
              "284                  0.0                    0.0                   0.0  \n",
              "285                  0.0                    0.0                   1.0  \n",
              "\n",
              "[272 rows x 14 columns]"
            ]
          },
          "execution_count": 103,
          "metadata": {},
          "output_type": "execute_result"
        }
      ],
      "source": [
        "X_prev_label"
      ]
    },
    {
      "cell_type": "code",
      "execution_count": 104,
      "metadata": {
        "colab": {
          "base_uri": "https://localhost:8080/"
        },
        "id": "tauFS_600OjB",
        "outputId": "31589063-6c1e-4631-ccac-e1a60192debe"
      },
      "outputs": [
        {
          "data": {
            "text/plain": [
              "array([[2., 2., 3., ..., 1., 0., 0.],\n",
              "       [3., 0., 3., ..., 0., 0., 0.],\n",
              "       [3., 0., 7., ..., 0., 0., 0.],\n",
              "       ...,\n",
              "       [1., 2., 6., ..., 0., 0., 1.],\n",
              "       [3., 2., 3., ..., 0., 0., 0.],\n",
              "       [3., 0., 8., ..., 0., 0., 1.]])"
            ]
          },
          "execution_count": 104,
          "metadata": {},
          "output_type": "execute_result"
        }
      ],
      "source": [
        "X_prev[:,:]\n"
      ]
    },
    {
      "cell_type": "code",
      "execution_count": 105,
      "metadata": {
        "id": "kLLl-H1ygy7y"
      },
      "outputs": [],
      "source": [
        "y_classe = base.iloc[:, 8].values"
      ]
    },
    {
      "cell_type": "code",
      "execution_count": 106,
      "metadata": {
        "colab": {
          "base_uri": "https://localhost:8080/"
        },
        "id": "XFnwVWk2hYzj",
        "outputId": "d7a7d0f3-ee76-47c2-bd13-1920d1e4546b"
      },
      "outputs": [
        {
          "data": {
            "text/plain": [
              "array([1, 0, 1, 0, 1, 0, 0, 0, 0, 0, 0, 0, 0, 0, 1, 0, 0, 0, 0, 1, 0, 0,\n",
              "       0, 1, 0, 0, 0, 1, 1, 0, 0, 0, 1, 0, 0, 0, 0, 0, 1, 0, 0, 1, 1, 0,\n",
              "       0, 0, 0, 1, 0, 0, 0, 0, 0, 0, 0, 0, 1, 1, 0, 0, 1, 1, 0, 0, 1, 0,\n",
              "       1, 0, 0, 1, 1, 0, 0, 0, 1, 0, 0, 0, 0, 0, 0, 0, 0, 0, 0, 0, 1, 1,\n",
              "       1, 0, 0, 0, 1, 0, 1, 1, 1, 1, 0, 0, 0, 1, 1, 1, 0, 0, 0, 0, 0, 0,\n",
              "       0, 0, 1, 0, 0, 1, 0, 0, 1, 0, 0, 0, 0, 1, 0, 0, 0, 1, 1, 0, 1, 0,\n",
              "       0, 1, 0, 1, 0, 1, 0, 0, 0, 1, 0, 0, 0, 1, 0, 0, 1, 0, 0, 1, 1, 0,\n",
              "       0, 0, 0, 0, 0, 1, 1, 1, 0, 0, 0, 1, 1, 0, 1, 0, 0, 0, 1, 0, 0, 1,\n",
              "       0, 1, 0, 0, 0, 1, 0, 0, 0, 1, 0, 0, 0, 1, 0, 0, 1, 0, 0, 0, 0, 0,\n",
              "       1, 0, 1, 1, 0, 1, 1, 0, 0, 0, 1, 1, 0, 0, 0, 0, 1, 0, 0, 0, 0, 1,\n",
              "       0, 0, 0, 0, 0, 1, 0, 1, 1, 1, 0, 0, 0, 0, 0, 0, 0, 0, 1, 0, 0, 0,\n",
              "       0, 1, 0, 1, 0, 1, 0, 0, 0, 1, 0, 0, 0, 0, 1, 1, 0, 0, 0, 0, 0, 0,\n",
              "       0, 0, 0, 0, 0, 0, 0, 0])"
            ]
          },
          "execution_count": 106,
          "metadata": {},
          "output_type": "execute_result"
        }
      ],
      "source": [
        "y_classe"
      ]
    },
    {
      "cell_type": "markdown",
      "metadata": {
        "id": "A4y4I3XlXRZT"
      },
      "source": [
        "**Podemos fazer esta mesma divisão (separar as variáveis de entrada e saída) usando os comandos abaixo**"
      ]
    },
    {
      "cell_type": "code",
      "execution_count": 107,
      "metadata": {
        "id": "sXkdmFSnXQY0"
      },
      "outputs": [
        {
          "data": {
            "text/plain": [
              "'Class'"
            ]
          },
          "execution_count": 107,
          "metadata": {},
          "output_type": "execute_result"
        }
      ],
      "source": [
        "#X = base.copy() \n",
        "#y = X.pop('Conclusao')\n",
        "base.columns[8]"
      ]
    },
    {
      "cell_type": "code",
      "execution_count": 108,
      "metadata": {
        "colab": {
          "base_uri": "https://localhost:8080/"
        },
        "id": "OFz5uXgNjZd7",
        "outputId": "8226385e-2d36-48d4-f5a6-ce6d2d339bd8"
      },
      "outputs": [
        {
          "data": {
            "text/plain": [
              "array([2., 3., 3., 2., 2., 3., 3., 2., 2., 2., 3., 4., 3., 3., 2., 1., 3.,\n",
              "       3., 3., 3., 4., 3., 2., 1., 3., 3., 4., 2., 4., 4., 3., 3., 2., 1.,\n",
              "       2., 4., 2., 2., 1., 2., 4., 3., 3., 4., 2., 3., 3., 5., 3., 2., 5.,\n",
              "       2., 3., 3., 3., 3., 1., 3., 2., 2., 2., 2., 1., 4., 3., 1., 3., 4.,\n",
              "       4., 3., 1., 3., 3., 2., 2., 4., 3., 2., 2., 4., 1., 3., 2., 1., 3.,\n",
              "       3., 4., 1., 3., 3., 3., 2., 1., 3., 4., 2., 2., 3., 3., 4., 2., 4.,\n",
              "       4., 3., 3., 2., 4., 4., 1., 1., 4., 4., 2., 2., 2., 2., 3., 2., 1.,\n",
              "       1., 3., 4., 4., 2., 4., 2., 0., 2., 2., 1., 1., 3., 3., 4., 3., 4.,\n",
              "       2., 2., 3., 3., 3., 1., 4., 2., 3., 2., 3., 3., 1., 4., 4., 1., 1.,\n",
              "       3., 4., 3., 2., 4., 3., 2., 3., 4., 2., 2., 2., 3., 3., 2., 3., 2.,\n",
              "       2., 2., 2., 2., 1., 4., 2., 3., 2., 4., 2., 2., 3., 3., 2., 4., 4.,\n",
              "       2., 1., 1., 4., 2., 4., 1., 2., 4., 2., 2., 4., 3., 3., 2., 2., 2.,\n",
              "       2., 2., 3., 5., 4., 4., 3., 3., 2., 3., 1., 4., 4., 2., 1., 2., 1.,\n",
              "       2., 3., 3., 4., 4., 1., 2., 4., 3., 5., 1., 2., 2., 2., 4., 3., 3.,\n",
              "       3., 3., 2., 5., 2., 3., 3., 4., 2., 3., 5., 1., 4., 2., 3., 3., 2.,\n",
              "       4., 3., 3., 1., 2., 3., 3., 2., 2., 3., 2., 4., 3., 3., 1., 3., 3.])"
            ]
          },
          "execution_count": 108,
          "metadata": {},
          "output_type": "execute_result"
        }
      ],
      "source": [
        "X_prev[:,0]"
      ]
    },
    {
      "cell_type": "code",
      "execution_count": 109,
      "metadata": {
        "colab": {
          "base_uri": "https://localhost:8080/"
        },
        "id": "P11D5o6rYG8H",
        "outputId": "74be2c2d-0a5f-4aff-cfee-bbf0ae8e4ac5"
      },
      "outputs": [
        {
          "data": {
            "text/plain": [
              "array([[2., 2., 3., ..., 1., 0., 0.],\n",
              "       [3., 0., 3., ..., 0., 0., 0.],\n",
              "       [3., 0., 7., ..., 0., 0., 0.],\n",
              "       ...,\n",
              "       [1., 2., 6., ..., 0., 0., 1.],\n",
              "       [3., 2., 3., ..., 0., 0., 0.],\n",
              "       [3., 0., 8., ..., 0., 0., 1.]])"
            ]
          },
          "execution_count": 109,
          "metadata": {},
          "output_type": "execute_result"
        }
      ],
      "source": [
        "X_prev"
      ]
    },
    {
      "cell_type": "code",
      "execution_count": 110,
      "metadata": {
        "id": "hEgGLwa_nDmk"
      },
      "outputs": [],
      "source": [
        "\n",
        "#label_encoder_first_column = LabelEncoder()"
      ]
    },
    {
      "cell_type": "code",
      "execution_count": 111,
      "metadata": {
        "id": "CPHvoFGynldw"
      },
      "outputs": [],
      "source": [
        "\n",
        "#X_prev[:,0] = label_encoder_first_column.fit_transform(X_prev[:,0])\n"
      ]
    },
    {
      "cell_type": "code",
      "execution_count": 112,
      "metadata": {
        "colab": {
          "base_uri": "https://localhost:8080/"
        },
        "id": "phQP4ayIo7JC",
        "outputId": "045e4b81-2e95-4e40-9c6f-8ab7668a71be"
      },
      "outputs": [
        {
          "data": {
            "text/plain": [
              "array([[2., 2., 3., ..., 1., 0., 0.],\n",
              "       [3., 0., 3., ..., 0., 0., 0.],\n",
              "       [3., 0., 7., ..., 0., 0., 0.],\n",
              "       ...,\n",
              "       [1., 2., 6., ..., 0., 0., 1.],\n",
              "       [3., 2., 3., ..., 0., 0., 0.],\n",
              "       [3., 0., 8., ..., 0., 0., 1.]])"
            ]
          },
          "execution_count": 112,
          "metadata": {},
          "output_type": "execute_result"
        }
      ],
      "source": [
        "X_prev"
      ]
    },
    {
      "cell_type": "markdown",
      "metadata": {
        "id": "CdvWmHBWpNVf"
      },
      "source": [
        "\n",
        "\n",
        "> OneHotEncoder - Agora vamos binarizar atributos não ordinais"
      ]
    },
    {
      "cell_type": "markdown",
      "metadata": {
        "id": "tyfOlRYpuc9b"
      },
      "source": [
        "**Contando quantas opções de resposta tem cada atributo**"
      ]
    },
    {
      "cell_type": "code",
      "execution_count": 113,
      "metadata": {
        "colab": {
          "base_uri": "https://localhost:8080/"
        },
        "id": "aJkbkyXquPr1",
        "outputId": "dc040157-aaa4-4a66-b88e-cfe213159543"
      },
      "outputs": [],
      "source": [
        "#len(np.unique(base['Cliente'])) "
      ]
    },
    {
      "cell_type": "code",
      "execution_count": 114,
      "metadata": {
        "id": "abl6WdNRurkE"
      },
      "outputs": [],
      "source": [
        "from sklearn.preprocessing import OneHotEncoder\n",
        "from sklearn.compose import ColumnTransformer"
      ]
    },
    {
      "cell_type": "code",
      "execution_count": 115,
      "metadata": {
        "colab": {
          "base_uri": "https://localhost:8080/"
        },
        "id": "0motJ0N9yd8W",
        "outputId": "d688214a-5c7e-43c1-bbf8-36a65e90cf37"
      },
      "outputs": [
        {
          "data": {
            "text/plain": [
              "array([[2., 2., 3., ..., 1., 0., 0.],\n",
              "       [3., 0., 3., ..., 0., 0., 0.],\n",
              "       [3., 0., 7., ..., 0., 0., 0.],\n",
              "       ...,\n",
              "       [1., 2., 6., ..., 0., 0., 1.],\n",
              "       [3., 2., 3., ..., 0., 0., 0.],\n",
              "       [3., 0., 8., ..., 0., 0., 1.]])"
            ]
          },
          "execution_count": 115,
          "metadata": {},
          "output_type": "execute_result"
        }
      ],
      "source": [
        "X_prev"
      ]
    },
    {
      "cell_type": "code",
      "execution_count": 116,
      "metadata": {
        "colab": {
          "base_uri": "https://localhost:8080/"
        },
        "id": "4n4ZSB9bRN4j",
        "outputId": "24bf32f7-ae02-4576-a870-4a5fe0a2a36f"
      },
      "outputs": [
        {
          "data": {
            "text/plain": [
              "array([[2., 2., 3., ..., 1., 0., 0.],\n",
              "       [3., 0., 3., ..., 1., 0., 0.],\n",
              "       [3., 0., 7., ..., 0., 0., 0.],\n",
              "       ...,\n",
              "       [1., 2., 6., ..., 1., 0., 0.],\n",
              "       [3., 2., 3., ..., 1., 0., 0.],\n",
              "       [3., 0., 8., ..., 0., 0., 0.]])"
            ]
          },
          "execution_count": 116,
          "metadata": {},
          "output_type": "execute_result"
        }
      ],
      "source": [
        "X_prev[:,0:9]"
      ]
    },
    {
      "cell_type": "code",
      "execution_count": 117,
      "metadata": {
        "id": "PKsgBg8CvVjt"
      },
      "outputs": [],
      "source": [
        "#onehotencoder_restaurante = ColumnTransformer(transformers=[('OneHot', OneHotEncoder(), [4,5,8,9])], remainder='passthrough')\n"
      ]
    },
    {
      "cell_type": "code",
      "execution_count": 118,
      "metadata": {
        "id": "XxJI5AEAvo0u"
      },
      "outputs": [],
      "source": [
        "#X_prev= onehotencoder_restaurante.fit_transform(X_prev)"
      ]
    },
    {
      "cell_type": "code",
      "execution_count": 119,
      "metadata": {
        "colab": {
          "base_uri": "https://localhost:8080/"
        },
        "id": "PpzcL-nixDQy",
        "outputId": "d7dde9ed-d537-4fab-f5c0-7a8459d2d251"
      },
      "outputs": [],
      "source": [
        "#X_prev"
      ]
    },
    {
      "cell_type": "code",
      "execution_count": 120,
      "metadata": {
        "colab": {
          "base_uri": "https://localhost:8080/"
        },
        "id": "6YoPu2Vt8mMY",
        "outputId": "2e043d16-ddb7-4496-8322-0065dc8b68ef"
      },
      "outputs": [
        {
          "data": {
            "text/plain": [
              "(272, 14)"
            ]
          },
          "execution_count": 120,
          "metadata": {},
          "output_type": "execute_result"
        }
      ],
      "source": [
        "X_prev.shape"
      ]
    },
    {
      "cell_type": "markdown",
      "metadata": {
        "id": "e2DfYD9BZpUV"
      },
      "source": [
        "**Esta mesma transformação OneHotEncoder pode ser feita com o comando abaixo**"
      ]
    },
    {
      "cell_type": "code",
      "execution_count": 121,
      "metadata": {
        "id": "BihvMTn8ZoHp"
      },
      "outputs": [],
      "source": [
        "#base = pd.get_dummies(X_prev_label)\n",
        "#base.head()"
      ]
    },
    {
      "cell_type": "markdown",
      "metadata": {
        "id": "9dxbazZBDX6H"
      },
      "source": [
        "**Método de amostragem Holdout**"
      ]
    },
    {
      "cell_type": "code",
      "execution_count": 122,
      "metadata": {
        "id": "_qGk4N4CK7LQ"
      },
      "outputs": [],
      "source": [
        "from sklearn.model_selection import train_test_split"
      ]
    },
    {
      "cell_type": "code",
      "execution_count": 123,
      "metadata": {
        "colab": {
          "base_uri": "https://localhost:8080/"
        },
        "id": "iSw7DIn3GuYn",
        "outputId": "7600cf84-de35-4f64-a6ed-93996cb6dc51"
      },
      "outputs": [
        {
          "data": {
            "text/plain": [
              "array([[2., 2., 3., ..., 1., 0., 0.],\n",
              "       [3., 0., 3., ..., 0., 0., 0.],\n",
              "       [3., 0., 7., ..., 0., 0., 0.],\n",
              "       ...,\n",
              "       [1., 2., 6., ..., 0., 0., 1.],\n",
              "       [3., 2., 3., ..., 0., 0., 0.],\n",
              "       [3., 0., 8., ..., 0., 0., 1.]])"
            ]
          },
          "execution_count": 123,
          "metadata": {},
          "output_type": "execute_result"
        }
      ],
      "source": [
        "X_prev"
      ]
    },
    {
      "cell_type": "code",
      "execution_count": 124,
      "metadata": {
        "colab": {
          "base_uri": "https://localhost:8080/"
        },
        "id": "y9YbfO5mGyuN",
        "outputId": "1d33ad59-dc7c-4506-f1a8-65d785131903"
      },
      "outputs": [
        {
          "data": {
            "text/plain": [
              "array([1, 0, 1, 0, 1, 0, 0, 0, 0, 0, 0, 0, 0, 0, 1, 0, 0, 0, 0, 1, 0, 0,\n",
              "       0, 1, 0, 0, 0, 1, 1, 0, 0, 0, 1, 0, 0, 0, 0, 0, 1, 0, 0, 1, 1, 0,\n",
              "       0, 0, 0, 1, 0, 0, 0, 0, 0, 0, 0, 0, 1, 1, 0, 0, 1, 1, 0, 0, 1, 0,\n",
              "       1, 0, 0, 1, 1, 0, 0, 0, 1, 0, 0, 0, 0, 0, 0, 0, 0, 0, 0, 0, 1, 1,\n",
              "       1, 0, 0, 0, 1, 0, 1, 1, 1, 1, 0, 0, 0, 1, 1, 1, 0, 0, 0, 0, 0, 0,\n",
              "       0, 0, 1, 0, 0, 1, 0, 0, 1, 0, 0, 0, 0, 1, 0, 0, 0, 1, 1, 0, 1, 0,\n",
              "       0, 1, 0, 1, 0, 1, 0, 0, 0, 1, 0, 0, 0, 1, 0, 0, 1, 0, 0, 1, 1, 0,\n",
              "       0, 0, 0, 0, 0, 1, 1, 1, 0, 0, 0, 1, 1, 0, 1, 0, 0, 0, 1, 0, 0, 1,\n",
              "       0, 1, 0, 0, 0, 1, 0, 0, 0, 1, 0, 0, 0, 1, 0, 0, 1, 0, 0, 0, 0, 0,\n",
              "       1, 0, 1, 1, 0, 1, 1, 0, 0, 0, 1, 1, 0, 0, 0, 0, 1, 0, 0, 0, 0, 1,\n",
              "       0, 0, 0, 0, 0, 1, 0, 1, 1, 1, 0, 0, 0, 0, 0, 0, 0, 0, 1, 0, 0, 0,\n",
              "       0, 1, 0, 1, 0, 1, 0, 0, 0, 1, 0, 0, 0, 0, 1, 1, 0, 0, 0, 0, 0, 0,\n",
              "       0, 0, 0, 0, 0, 0, 0, 0])"
            ]
          },
          "execution_count": 124,
          "metadata": {},
          "output_type": "execute_result"
        }
      ],
      "source": [
        "y_classe"
      ]
    },
    {
      "cell_type": "code",
      "execution_count": 125,
      "metadata": {
        "colab": {
          "base_uri": "https://localhost:8080/"
        },
        "id": "BBaT0pZRIocD",
        "outputId": "3574ddf9-50cb-4e67-d7b3-3092c468c320"
      },
      "outputs": [
        {
          "data": {
            "text/plain": [
              "(272,)"
            ]
          },
          "execution_count": 125,
          "metadata": {},
          "output_type": "execute_result"
        }
      ],
      "source": [
        "y_classe.shape"
      ]
    },
    {
      "cell_type": "code",
      "execution_count": 126,
      "metadata": {
        "id": "BQ7sHFHmDz_b"
      },
      "outputs": [],
      "source": [
        "#X_train_ds, X_test_ds, y_train_ds, y_test_ds = train_test_split(X, y, test_size=0.3, random_state=123, shuffle=True, stratify=y)\n",
        "X_treino, X_teste, y_treino, y_teste = train_test_split(X_prev, y_classe, test_size = 0.20, random_state = 0)"
      ]
    },
    {
      "cell_type": "code",
      "execution_count": 127,
      "metadata": {
        "colab": {
          "base_uri": "https://localhost:8080/"
        },
        "id": "nXswVGPeK_HB",
        "outputId": "5f15c73c-2caa-42e9-8821-e9ef8aa2ecaa"
      },
      "outputs": [
        {
          "data": {
            "text/plain": [
              "(217, 14)"
            ]
          },
          "execution_count": 127,
          "metadata": {},
          "output_type": "execute_result"
        }
      ],
      "source": [
        "X_treino.shape"
      ]
    },
    {
      "cell_type": "code",
      "execution_count": 128,
      "metadata": {
        "colab": {
          "base_uri": "https://localhost:8080/"
        },
        "id": "Qt1gTVyxLAvS",
        "outputId": "2e342a5f-1b31-485e-8202-ae1f1fd7f77a"
      },
      "outputs": [
        {
          "data": {
            "text/plain": [
              "(55, 14)"
            ]
          },
          "execution_count": 128,
          "metadata": {},
          "output_type": "execute_result"
        }
      ],
      "source": [
        "X_teste.shape"
      ]
    },
    {
      "cell_type": "code",
      "execution_count": 129,
      "metadata": {
        "colab": {
          "base_uri": "https://localhost:8080/"
        },
        "id": "XmMPjC6A21vr",
        "outputId": "b51dccbf-ed1b-4027-9416-cd8f6e77f87c"
      },
      "outputs": [
        {
          "data": {
            "text/plain": [
              "array([[ 2.,  0.,  6.,  0.,  1.,  2.,  0.,  1.,  0.,  0.,  0.,  1.,  0.,\n",
              "         0.],\n",
              "       [ 1.,  2.,  4.,  1.,  2.,  2.,  1.,  1.,  0.,  0.,  0.,  1.,  0.,\n",
              "         0.],\n",
              "       [ 2.,  0.,  6.,  1.,  1.,  3.,  0.,  0.,  0.,  0.,  1.,  0.,  0.,\n",
              "         0.],\n",
              "       [ 4.,  0.,  2.,  0.,  1.,  1.,  0.,  0.,  0.,  0.,  0.,  1.,  0.,\n",
              "         0.],\n",
              "       [ 3.,  2.,  5.,  0.,  1.,  1.,  0.,  0.,  0.,  0.,  1.,  0.,  0.,\n",
              "         0.],\n",
              "       [ 4.,  0.,  5.,  1.,  1.,  2.,  1.,  0.,  0.,  0.,  0.,  0.,  0.,\n",
              "         1.],\n",
              "       [ 3.,  2.,  2.,  0.,  1.,  2.,  1.,  0.,  0.,  0.,  0.,  1.,  0.,\n",
              "         0.],\n",
              "       [ 3.,  0.,  1.,  0.,  1.,  2.,  1.,  0.,  0.,  0.,  0.,  0.,  0.,\n",
              "         1.],\n",
              "       [ 3.,  0., 10.,  0.,  1.,  1.,  1.,  0.,  0.,  0.,  0.,  0.,  0.,\n",
              "         1.],\n",
              "       [ 3.,  0.,  8.,  0.,  1.,  2.,  0.,  0.,  0.,  0.,  1.,  0.,  0.,\n",
              "         0.],\n",
              "       [ 3.,  0.,  4.,  0.,  2.,  2.,  1.,  0.,  0.,  0.,  0.,  1.,  0.,\n",
              "         0.],\n",
              "       [ 2.,  2.,  4.,  0.,  1.,  1.,  1.,  0.,  0.,  0.,  0.,  0.,  0.,\n",
              "         1.],\n",
              "       [ 4.,  0.,  9.,  0.,  1.,  1.,  1.,  1.,  0.,  0.,  0.,  0.,  0.,\n",
              "         1.],\n",
              "       [ 0.,  2.,  7.,  0.,  1.,  2.,  1.,  0.,  0.,  0.,  0.,  0.,  0.,\n",
              "         1.],\n",
              "       [ 3.,  2.,  3.,  0.,  1.,  2.,  0.,  0.,  0.,  0.,  1.,  0.,  0.,\n",
              "         0.],\n",
              "       [ 1.,  2.,  4.,  0.,  1.,  3.,  0.,  0.,  0.,  1.,  0.,  0.,  0.,\n",
              "         0.],\n",
              "       [ 2.,  2.,  0.,  0.,  1.,  2.,  1.,  0.,  0.,  0.,  0.,  0.,  1.,\n",
              "         0.],\n",
              "       [ 1.,  2.,  4.,  1.,  2.,  2.,  0.,  0.,  0.,  0.,  1.,  0.,  0.,\n",
              "         0.],\n",
              "       [ 2.,  0.,  4.,  0.,  1.,  3.,  0.,  0.,  0.,  0.,  0.,  1.,  0.,\n",
              "         0.],\n",
              "       [ 2.,  2.,  7.,  0.,  1.,  1.,  0.,  0.,  0.,  0.,  1.,  0.,  0.,\n",
              "         0.],\n",
              "       [ 3.,  2., 10.,  0.,  2.,  2.,  1.,  1.,  0.,  0.,  0.,  1.,  0.,\n",
              "         0.],\n",
              "       [ 3.,  2.,  5.,  0.,  2.,  2.,  0.,  0.,  0.,  0.,  0.,  1.,  0.,\n",
              "         0.],\n",
              "       [ 5.,  0.,  8.,  0.,  1.,  1.,  1.,  0.,  0.,  0.,  0.,  1.,  0.,\n",
              "         0.],\n",
              "       [ 3.,  0.,  6.,  2.,  2.,  2.,  0.,  1.,  0.,  0.,  0.,  0.,  1.,\n",
              "         0.],\n",
              "       [ 4.,  0.,  3.,  0.,  1.,  2.,  0.,  0.,  0.,  0.,  1.,  0.,  0.,\n",
              "         0.],\n",
              "       [ 2.,  2.,  2.,  0.,  1.,  2.,  0.,  0.,  0.,  0.,  0.,  1.,  0.,\n",
              "         0.],\n",
              "       [ 1.,  2.,  8.,  0.,  1.,  1.,  0.,  0.,  0.,  0.,  0.,  1.,  0.,\n",
              "         0.],\n",
              "       [ 2.,  2.,  2.,  0.,  1.,  2.,  0.,  0.,  0.,  0.,  1.,  0.,  0.,\n",
              "         0.],\n",
              "       [ 3.,  2.,  6.,  0.,  1.,  3.,  1.,  1.,  0.,  0.,  0.,  1.,  0.,\n",
              "         0.],\n",
              "       [ 2.,  2.,  4.,  0.,  1.,  3.,  1.,  1.,  0.,  0.,  1.,  0.,  0.,\n",
              "         0.],\n",
              "       [ 3.,  0.,  6.,  3.,  0.,  3.,  0.,  1.,  0.,  0.,  0.,  1.,  0.,\n",
              "         0.],\n",
              "       [ 1.,  2.,  7.,  3.,  2.,  3.,  0.,  0.,  0.,  0.,  1.,  0.,  0.,\n",
              "         0.],\n",
              "       [ 3.,  2.,  5.,  0.,  1.,  2.,  0.,  0.,  0.,  0.,  0.,  0.,  0.,\n",
              "         1.],\n",
              "       [ 4.,  1.,  6.,  0.,  1.,  1.,  0.,  0.,  0.,  0.,  1.,  0.,  0.,\n",
              "         0.],\n",
              "       [ 2.,  2.,  5.,  0.,  1.,  2.,  1.,  0.,  0.,  1.,  0.,  0.,  0.,\n",
              "         0.],\n",
              "       [ 2.,  2.,  6.,  1.,  1.,  2.,  1.,  0.,  0.,  0.,  0.,  1.,  0.,\n",
              "         0.],\n",
              "       [ 3.,  0.,  6.,  0.,  1.,  3.,  0.,  0.,  1.,  0.,  0.,  0.,  0.,\n",
              "         0.],\n",
              "       [ 1.,  2.,  5.,  2.,  2.,  2.,  1.,  1.,  0.,  0.,  0.,  1.,  0.,\n",
              "         0.],\n",
              "       [ 3.,  2., 10.,  3.,  2.,  2.,  1.,  0.,  0.,  0.,  0.,  1.,  0.,\n",
              "         0.],\n",
              "       [ 3.,  2.,  7.,  5.,  2.,  3.,  1.,  0.,  0.,  0.,  0.,  0.,  0.,\n",
              "         1.],\n",
              "       [ 4.,  0.,  6.,  1.,  2.,  2.,  0.,  1.,  0.,  1.,  0.,  0.,  0.,\n",
              "         0.],\n",
              "       [ 3.,  0.,  5.,  0.,  1.,  2.,  0.,  0.,  0.,  0.,  1.,  0.,  0.,\n",
              "         0.],\n",
              "       [ 2.,  2.,  4.,  1.,  1.,  2.,  1.,  0.,  0.,  0.,  0.,  1.,  0.,\n",
              "         0.],\n",
              "       [ 4.,  0.,  3.,  0.,  1.,  1.,  1.,  0.,  0.,  0.,  0.,  1.,  0.,\n",
              "         0.],\n",
              "       [ 2.,  2.,  3.,  5.,  2.,  3.,  0.,  0.,  0.,  0.,  1.,  0.,  0.,\n",
              "         0.],\n",
              "       [ 3.,  2.,  5.,  0.,  1.,  1.,  1.,  0.,  0.,  0.,  0.,  1.,  0.,\n",
              "         0.],\n",
              "       [ 1.,  2.,  4.,  1.,  1.,  2.,  1.,  0.,  0.,  1.,  0.,  0.,  0.,\n",
              "         0.],\n",
              "       [ 2.,  2.,  5.,  0.,  1.,  3.,  0.,  0.,  0.,  0.,  0.,  1.,  0.,\n",
              "         0.],\n",
              "       [ 1.,  2.,  5.,  0.,  1.,  2.,  0.,  0.,  0.,  0.,  1.,  0.,  0.,\n",
              "         0.],\n",
              "       [ 2.,  2.,  2.,  0.,  1.,  1.,  1.,  0.,  0.,  0.,  0.,  0.,  1.,\n",
              "         0.],\n",
              "       [ 5.,  0.,  0.,  0.,  1.,  1.,  0.,  0.,  0.,  0.,  0.,  0.,  1.,\n",
              "         0.],\n",
              "       [ 2.,  2.,  5.,  0.,  1.,  2.,  0.,  0.,  0.,  0.,  0.,  1.,  0.,\n",
              "         0.],\n",
              "       [ 4.,  0.,  8.,  1.,  1.,  2.,  1.,  1.,  0.,  0.,  0.,  1.,  0.,\n",
              "         0.],\n",
              "       [ 3.,  1.,  3.,  0.,  1.,  2.,  0.,  0.,  0.,  0.,  1.,  0.,  0.,\n",
              "         0.],\n",
              "       [ 3.,  2.,  5.,  0.,  1.,  1.,  1.,  0.,  0.,  0.,  0.,  1.,  0.,\n",
              "         0.]])"
            ]
          },
          "execution_count": 129,
          "metadata": {},
          "output_type": "execute_result"
        }
      ],
      "source": [
        "X_teste"
      ]
    },
    {
      "cell_type": "code",
      "execution_count": 130,
      "metadata": {
        "colab": {
          "base_uri": "https://localhost:8080/"
        },
        "id": "Nd8g6k2ALDbU",
        "outputId": "af848e1c-a500-4e29-95ff-8fe2f0f9ad8a"
      },
      "outputs": [
        {
          "data": {
            "text/plain": [
              "array([0, 0, 0, 0, 0, 1, 1, 0, 0, 0, 1, 0, 0, 0, 0, 0, 0, 0, 0, 0, 0, 0,\n",
              "       0, 1, 0, 0, 0, 1, 0, 0, 0, 0, 0, 0, 0, 0, 0, 0, 1, 0, 0, 1, 1, 0,\n",
              "       1, 0, 0, 1, 0, 0, 1, 0, 0, 0, 0, 0, 1, 0, 0, 1, 0, 0, 0, 0, 1, 1,\n",
              "       1, 0, 0, 1, 0, 0, 0, 0, 0, 0, 1, 0, 0, 0, 1, 0, 0, 0, 1, 1, 0, 0,\n",
              "       1, 0, 0, 0, 1, 0, 0, 0, 0, 0, 1, 0, 0, 1, 0, 0, 0, 0, 1, 0, 0, 1,\n",
              "       1, 1, 0, 1, 0, 0, 0, 0, 1, 1, 0, 0, 0, 0, 0, 1, 0, 0, 0, 0, 0, 0,\n",
              "       0, 0, 0, 0, 0, 0, 0, 1, 0, 0, 1, 0, 1, 0, 0, 0, 0, 1, 0, 1, 0, 0,\n",
              "       1, 0, 1, 1, 0, 0, 1, 1, 0, 1, 0, 0, 1, 0, 1, 0, 0, 0, 1, 1, 0, 0,\n",
              "       1, 0, 0, 0, 0, 0, 1, 0, 0, 0, 0, 1, 0, 0, 1, 1, 1, 1, 0, 0, 0, 0,\n",
              "       1, 0, 0, 0, 0, 0, 0, 1, 1, 1, 0, 0, 0, 0, 1, 1, 0, 1, 1])"
            ]
          },
          "execution_count": 130,
          "metadata": {},
          "output_type": "execute_result"
        }
      ],
      "source": [
        "y_treino"
      ]
    },
    {
      "cell_type": "code",
      "execution_count": 131,
      "metadata": {
        "colab": {
          "base_uri": "https://localhost:8080/"
        },
        "id": "8VliUzP_LH5G",
        "outputId": "39f02eca-72b0-4415-b844-66a79c006689"
      },
      "outputs": [
        {
          "data": {
            "text/plain": [
              "array([0, 0, 1, 0, 0, 1, 0, 0, 0, 0, 0, 0, 1, 0, 1, 0, 0, 1, 0, 0, 0, 0,\n",
              "       0, 1, 0, 0, 1, 0, 1, 0, 0, 1, 1, 0, 0, 1, 1, 0, 1, 1, 1, 0, 0, 0,\n",
              "       1, 0, 0, 1, 0, 0, 0, 0, 0, 0, 1])"
            ]
          },
          "execution_count": 131,
          "metadata": {},
          "output_type": "execute_result"
        }
      ],
      "source": [
        "y_teste"
      ]
    },
    {
      "cell_type": "code",
      "execution_count": 132,
      "metadata": {
        "id": "zbE73RVVVPbW"
      },
      "outputs": [],
      "source": [
        "import pickle"
      ]
    },
    {
      "cell_type": "code",
      "execution_count": 133,
      "metadata": {
        "id": "v6E--H7lViHH"
      },
      "outputs": [],
      "source": [
        "with open('merge.pkl', mode = 'wb') as f:\n",
        "  pickle.dump([X_treino, X_teste, y_treino, y_teste], f)"
      ]
    }
  ],
  "metadata": {
    "colab": {
      "collapsed_sections": [],
      "provenance": []
    },
    "kernelspec": {
      "display_name": "Python 3",
      "name": "python3"
    },
    "language_info": {
      "codemirror_mode": {
        "name": "ipython",
        "version": 3
      },
      "file_extension": ".py",
      "mimetype": "text/x-python",
      "name": "python",
      "nbconvert_exporter": "python",
      "pygments_lexer": "ipython3",
      "version": "3.10.6"
    }
  },
  "nbformat": 4,
  "nbformat_minor": 0
}
